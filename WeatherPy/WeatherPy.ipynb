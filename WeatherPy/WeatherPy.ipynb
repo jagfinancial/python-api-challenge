{
 "cells": [
  {
   "cell_type": "markdown",
   "metadata": {},
   "source": [
    "# WeatherPy\n",
    "----\n",
    "\n",
    "#### Note\n",
    "* Instructions have been included for each segment. You do not have to follow them exactly, but they are included to help you think through the steps."
   ]
  },
  {
   "cell_type": "code",
   "execution_count": 1,
   "metadata": {
    "scrolled": true
   },
   "outputs": [],
   "source": [
    "# Dependencies and Setup\n",
    "import matplotlib.pyplot as plt\n",
    "import pandas as pd\n",
    "import numpy as np\n",
    "import requests\n",
    "import time\n",
    "from scipy.stats import linregress\n",
    "\n",
    "# Import API key\n",
    "from api_keys import weather_api_key\n",
    "temp_units=\"Imperial\"\n",
    "# Incorporated citipy to determine city based on latitude and longitude\n",
    "from citipy import citipy\n",
    "\n",
    "# Output File (CSV)\n",
    "output_data_file = \"output_data/cities.csv\"\n",
    "\n",
    "# Range of latitudes and longitudes\n",
    "lat_range = (-90, 90)\n",
    "lng_range = (-180, 180)"
   ]
  },
  {
   "cell_type": "markdown",
   "metadata": {},
   "source": [
    "## Generate Cities List"
   ]
  },
  {
   "cell_type": "code",
   "execution_count": 2,
   "metadata": {},
   "outputs": [
    {
     "name": "stdout",
     "output_type": "stream",
     "text": [
      "598\n",
      "598\n"
     ]
    }
   ],
   "source": [
    "# List for holding latitudes and longtitudes and cities\n",
    "lat_lngs = []\n",
    "cities = []\n",
    "countries = []\n",
    "\n",
    "# Create a set of random latitudes and longtitudes combinations\n",
    "lats = np.random.uniform(low=-90.000, high=90.000, size=1500)\n",
    "lngs = np.random.uniform(low=-180.000, high=180.000, size=1500)\n",
    "lat_lngs = zip(lats, lngs)\n",
    "\n",
    "# Identify nearest city for each latitudes, longtitudes combination\n",
    "for lat_lng in lat_lngs:\n",
    "    city = citipy.nearest_city(lat_lng[0], lat_lng[1]).city_name\n",
    "    country = citipy.nearest_city(lat_lng[0], lat_lng[1]).country_code\n",
    "    # If the city is unique, then add it to a our cities list\n",
    "    if city not in cities:\n",
    "        cities.append(city)\n",
    "        countries.append(country.upper())\n",
    "\n",
    "# Print the city count to confirm sufficient count\n",
    "print(len(cities))\n",
    "\n",
    "#Print the country count to confirm it matches city count\n",
    "print(len(countries))"
   ]
  },
  {
   "cell_type": "markdown",
   "metadata": {},
   "source": [
    "### Perform API Calls\n",
    "* Perform a weather check on each city using a series of successive API calls.\n",
    "* Include a print log of each city as it'sbeing processed (with the city number and city name).\n"
   ]
  },
  {
   "cell_type": "code",
   "execution_count": null,
   "metadata": {
    "scrolled": true
   },
   "outputs": [
    {
     "name": "stdout",
     "output_type": "stream",
     "text": [
      "-----------------------------Beginning Data Retrieval-----------------------------\n",
      "Processing Weather Data for Record 1 of Set 1 | Tamandaré\n",
      "Processing Weather Data for Record 2 of Set 1 | Miles City\n",
      "Processing Weather Data for Record 3 of Set 1 | Bluff\n",
      "Processing Weather Data for Record 4 of Set 1 | São Filipe\n",
      "Processing Weather Data for Record 5 of Set 1 | Ixtapa\n",
      "Processing Weather Data for Record 6 of Set 1 | Kendari\n",
      "Processing Weather Data for Record 7 of Set 1 | Flinders\n",
      "Processing Weather Data for Record 8 of Set 1 | Busselton\n",
      "City not found....Skipping............\n",
      "Processing Weather Data for Record 9 of Set 1 | Hilo\n",
      "Processing Weather Data for Record 10 of Set 1 | Falun\n",
      "Processing Weather Data for Record 11 of Set 1 | Pevek\n",
      "Processing Weather Data for Record 12 of Set 1 | Butaritari\n",
      "Processing Weather Data for Record 13 of Set 1 | Lompoc\n",
      "City not found....Skipping............\n",
      "City not found....Skipping............\n",
      "Processing Weather Data for Record 14 of Set 1 | Eucaliptus\n",
      "Processing Weather Data for Record 15 of Set 1 | Qaanaaq\n",
      "Processing Weather Data for Record 16 of Set 1 | Mbanza-Ngungu\n",
      "Processing Weather Data for Record 17 of Set 1 | Coquimbo\n",
      "Processing Weather Data for Record 18 of Set 1 | Yar-Sale\n",
      "Processing Weather Data for Record 19 of Set 1 | Grindavik\n",
      "Processing Weather Data for Record 20 of Set 1 | Kapaa\n",
      "Processing Weather Data for Record 21 of Set 1 | Tessalit\n",
      "City not found....Skipping............\n",
      "Processing Weather Data for Record 22 of Set 1 | Wattegama\n",
      "Processing Weather Data for Record 23 of Set 1 | Saint-Ambroise\n",
      "City not found....Skipping............\n",
      "Processing Weather Data for Record 24 of Set 1 | Cabo San Lucas\n",
      "Processing Weather Data for Record 25 of Set 1 | Yellowknife\n",
      "Processing Weather Data for Record 26 of Set 1 | Vestmannaeyjar\n",
      "Processing Weather Data for Record 27 of Set 1 | Ancud\n",
      "Processing Weather Data for Record 28 of Set 1 | Chui\n",
      "Processing Weather Data for Record 29 of Set 1 | Tuatapere\n",
      "Processing Weather Data for Record 30 of Set 1 | Lázaro Cárdenas\n",
      "Processing Weather Data for Record 31 of Set 1 | Ushuaia\n",
      "Processing Weather Data for Record 32 of Set 1 | Cape Town\n",
      "Processing Weather Data for Record 33 of Set 1 | Avarua\n",
      "Processing Weather Data for Record 34 of Set 1 | Jamestown\n",
      "Processing Weather Data for Record 35 of Set 1 | Saldanha\n",
      "Processing Weather Data for Record 36 of Set 1 | Cabedelo\n",
      "Processing Weather Data for Record 37 of Set 1 | Kieta\n",
      "Processing Weather Data for Record 38 of Set 1 | Cherskiy\n",
      "Processing Weather Data for Record 39 of Set 1 | Puerto Ayora\n",
      "Processing Weather Data for Record 40 of Set 1 | Port Blair\n",
      "Processing Weather Data for Record 41 of Set 1 | Bethel\n",
      "Processing Weather Data for Record 42 of Set 1 | Punta Arenas\n",
      "Processing Weather Data for Record 43 of Set 1 | Geraldton\n",
      "Processing Weather Data for Record 44 of Set 1 | Pisco\n",
      "Processing Weather Data for Record 45 of Set 1 | College\n",
      "Processing Weather Data for Record 46 of Set 1 | Rikitea\n",
      "Processing Weather Data for Record 47 of Set 1 | Seoul\n",
      "Processing Weather Data for Record 48 of Set 1 | Hermanus\n",
      "Processing Weather Data for Record 49 of Set 1 | Florianópolis\n",
      "Processing Weather Data for Record 50 of Set 1 | Albany\n",
      "Processing Weather Data for Record 1 of Set 2 | Tual\n",
      "Processing Weather Data for Record 2 of Set 2 | Carmelo\n",
      "Processing Weather Data for Record 3 of Set 2 | East London\n",
      "Processing Weather Data for Record 4 of Set 2 | Nyurba\n",
      "Processing Weather Data for Record 5 of Set 2 | Esperance\n",
      "Processing Weather Data for Record 6 of Set 2 | New Norfolk\n",
      "Processing Weather Data for Record 7 of Set 2 | Baykit\n",
      "Processing Weather Data for Record 8 of Set 2 | Bambous Virieux\n",
      "Processing Weather Data for Record 9 of Set 2 | Lüderitz\n",
      "Processing Weather Data for Record 10 of Set 2 | Muroto-misakicho\n",
      "Processing Weather Data for Record 11 of Set 2 | Hofn\n",
      "Processing Weather Data for Record 12 of Set 2 | Camacha\n",
      "Processing Weather Data for Record 13 of Set 2 | Saint-Pierre\n",
      "Processing Weather Data for Record 14 of Set 2 | Jérémie\n",
      "Processing Weather Data for Record 15 of Set 2 | Tegul'det\n",
      "Processing Weather Data for Record 16 of Set 2 | Broome\n",
      "Processing Weather Data for Record 17 of Set 2 | Vaini\n",
      "Processing Weather Data for Record 18 of Set 2 | Bac Lieu\n",
      "Processing Weather Data for Record 19 of Set 2 | Saint-Philippe\n",
      "Processing Weather Data for Record 20 of Set 2 | Aswān\n",
      "Processing Weather Data for Record 21 of Set 2 | Port Alfred\n",
      "Processing Weather Data for Record 22 of Set 2 | Tiksi\n",
      "Processing Weather Data for Record 23 of Set 2 | Krasnosel'kup\n",
      "Processing Weather Data for Record 24 of Set 2 | Padang\n",
      "City not found....Skipping............\n",
      "Processing Weather Data for Record 25 of Set 2 | Upernavik\n",
      "City not found....Skipping............\n",
      "Processing Weather Data for Record 26 of Set 2 | Sistranda\n",
      "Processing Weather Data for Record 27 of Set 2 | Hithadhoo\n",
      "Processing Weather Data for Record 28 of Set 2 | Dingle\n",
      "Processing Weather Data for Record 29 of Set 2 | Umm Kaddadah\n",
      "Processing Weather Data for Record 30 of Set 2 | Atuona\n",
      "Processing Weather Data for Record 31 of Set 2 | Cidreira\n",
      "Processing Weather Data for Record 32 of Set 2 | Thompson\n",
      "Processing Weather Data for Record 33 of Set 2 | Hobyo\n",
      "Processing Weather Data for Record 34 of Set 2 | Omboué\n",
      "Processing Weather Data for Record 35 of Set 2 | Yining\n",
      "Processing Weather Data for Record 36 of Set 2 | Tuktoyaktuk\n",
      "Processing Weather Data for Record 37 of Set 2 | Tezu\n",
      "Processing Weather Data for Record 38 of Set 2 | Castro\n",
      "Processing Weather Data for Record 39 of Set 2 | Mossamedes\n",
      "Processing Weather Data for Record 40 of Set 2 | Leh\n",
      "Processing Weather Data for Record 41 of Set 2 | Wasilla\n",
      "Processing Weather Data for Record 42 of Set 2 | Katherine\n",
      "Processing Weather Data for Record 43 of Set 2 | Deogarh\n",
      "Processing Weather Data for Record 44 of Set 2 | Lebu\n",
      "Processing Weather Data for Record 45 of Set 2 | Riyadh\n",
      "Processing Weather Data for Record 46 of Set 2 | Dikson\n",
      "Processing Weather Data for Record 47 of Set 2 | Bodden Town\n",
      "Processing Weather Data for Record 48 of Set 2 | Port Elizabeth\n",
      "Processing Weather Data for Record 49 of Set 2 | Bengkulu\n",
      "Processing Weather Data for Record 50 of Set 2 | Ribeira Grande\n"
     ]
    }
   ],
   "source": [
    "city_weather = pd.DataFrame({'City': cities, 'Cloudiness': \"\", 'Country': countries, 'Date': \"\",\n",
    "                            'Humidity': \"\", 'Lat': \"\", 'Lng': \"\", 'Max Temp': \"\", 'Windspeed': \"\"})\n",
    "#Variables to keep track of response number\n",
    "record_num = 1\n",
    "record_set = 1\n",
    "\n",
    "#Base url to make the api call\n",
    "base_url = 'http://api.openweathermap.org/data/2.5/weather?units=imperial&q='\n",
    "\n",
    "#Run the API call for each city\n",
    "print('''-----------------------------Beginning Data Retrieval-----------------------------''')\n",
    "for index, row in city_weather.iterrows(): \n",
    "    #Create the query url for the API call\n",
    "    query_url = base_url + row['City'] + ',' + '&APPID=' + weather_api_key\n",
    "    \n",
    "    #API call\n",
    "    response = requests.get(query_url).json()\n",
    "    \n",
    "    #Exception script in case the city is not found by the API call\n",
    "    try: \n",
    "        #Message to alert the user that the data is being retrieved\n",
    "        print(f'Processing Weather Data for Record {record_num} of Set {record_set} | {response[\"name\"]}')\n",
    "        \n",
    "        #Input data into the dataframe\n",
    "        city_weather.loc[index, 'Cloudiness'] = response['clouds']['all']\n",
    "        city_weather.loc[index, 'Date'] = response['dt']\n",
    "        city_weather.loc[index, 'Humidity'] = response['main']['humidity']\n",
    "        city_weather.loc[index, 'Lat'] = response['coord']['lat']\n",
    "        city_weather.loc[index, 'Lng'] = response['coord']['lon']\n",
    "        city_weather.loc[index, 'Max Temp'] = response['main']['temp_max']\n",
    "        city_weather.loc[index, 'Windspeed'] = response['wind']['speed']\n",
    "        \n",
    "        #Increase the record count\n",
    "        record_num += 1\n",
    "        \n",
    "    except (KeyError, IndexError):\n",
    "        print(\"City not found....Skipping............\")\n",
    "    \n",
    "    #If statement to handle the API call limits\n",
    "    if record_num == 51:\n",
    "        record_set += 1\n",
    "        record_num = 1\n",
    "        time.sleep(60)\n",
    "        \n",
    "print('''------------------Data Retrival Complete----------------------''')\n",
    "\n"
   ]
  },
  {
   "cell_type": "code",
   "execution_count": null,
   "metadata": {},
   "outputs": [],
   "source": [
    "### Convert Raw Data to DataFrame\n",
    "city_weather = pd.DataFrame({'City': cities, 'Cloudiness': \"\", 'Country': countries, 'Date': \"\",\n",
    "                            'Humidity': \"\", 'Lat': \"\", 'Lng': \"\", 'Max Temp': \"\", 'Windspeed': \"\"})\n",
    "\n",
    "#Preview the dataframe\n",
    "city_weather\n",
    "\n",
    "#Export the city data into a .csv.\n",
    "city_weather.to_csv(\"CityWeatherData.csv\", index=False, header=True)\n",
    "\n",
    "#Display the DataFrame\n",
    "city_weather.head()"
   ]
  },
  {
   "cell_type": "markdown",
   "metadata": {},
   "source": [
    "## Inspect the data and remove the cities where the humidity > 100%.\n",
    "----\n",
    "Skip this step if there are no cities that have humidity > 100%. "
   ]
  },
  {
   "cell_type": "code",
   "execution_count": null,
   "metadata": {},
   "outputs": [],
   "source": []
  },
  {
   "cell_type": "code",
   "execution_count": null,
   "metadata": {},
   "outputs": [],
   "source": [
    "#  Get the indices of cities that have humidity over 100%.\n"
   ]
  },
  {
   "cell_type": "code",
   "execution_count": null,
   "metadata": {},
   "outputs": [],
   "source": [
    "# Make a new DataFrame equal to the city data to drop all humidity outliers by index.\n",
    "# Passing \"inplace=False\" will make a copy of the city_data DataFrame, which we call \"clean_city_data\".\n"
   ]
  },
  {
   "cell_type": "code",
   "execution_count": null,
   "metadata": {},
   "outputs": [],
   "source": [
    "\n"
   ]
  },
  {
   "cell_type": "markdown",
   "metadata": {},
   "source": [
    "## Plotting the Data\n",
    "* Use proper labeling of the plots using plot titles (including date of analysis) and axes labels.\n",
    "* Save the plotted figures as .pngs."
   ]
  },
  {
   "cell_type": "markdown",
   "metadata": {},
   "source": [
    "## Latitude vs. Temperature Plot"
   ]
  },
  {
   "cell_type": "code",
   "execution_count": null,
   "metadata": {
    "scrolled": true
   },
   "outputs": [],
   "source": []
  },
  {
   "cell_type": "markdown",
   "metadata": {},
   "source": [
    "## Latitude vs. Humidity Plot"
   ]
  },
  {
   "cell_type": "code",
   "execution_count": null,
   "metadata": {},
   "outputs": [],
   "source": []
  },
  {
   "cell_type": "markdown",
   "metadata": {},
   "source": [
    "## Latitude vs. Cloudiness Plot"
   ]
  },
  {
   "cell_type": "code",
   "execution_count": null,
   "metadata": {},
   "outputs": [],
   "source": []
  },
  {
   "cell_type": "markdown",
   "metadata": {},
   "source": [
    "## Latitude vs. Wind Speed Plot"
   ]
  },
  {
   "cell_type": "code",
   "execution_count": null,
   "metadata": {},
   "outputs": [],
   "source": []
  },
  {
   "cell_type": "markdown",
   "metadata": {},
   "source": [
    "## Linear Regression"
   ]
  },
  {
   "cell_type": "code",
   "execution_count": null,
   "metadata": {},
   "outputs": [],
   "source": []
  },
  {
   "cell_type": "markdown",
   "metadata": {},
   "source": [
    "####  Northern Hemisphere - Max Temp vs. Latitude Linear Regression"
   ]
  },
  {
   "cell_type": "code",
   "execution_count": null,
   "metadata": {},
   "outputs": [],
   "source": []
  },
  {
   "cell_type": "markdown",
   "metadata": {},
   "source": [
    "####  Southern Hemisphere - Max Temp vs. Latitude Linear Regression"
   ]
  },
  {
   "cell_type": "code",
   "execution_count": null,
   "metadata": {},
   "outputs": [],
   "source": []
  },
  {
   "cell_type": "markdown",
   "metadata": {},
   "source": [
    "####  Northern Hemisphere - Humidity (%) vs. Latitude Linear Regression"
   ]
  },
  {
   "cell_type": "code",
   "execution_count": null,
   "metadata": {},
   "outputs": [],
   "source": []
  },
  {
   "cell_type": "markdown",
   "metadata": {},
   "source": [
    "####  Southern Hemisphere - Humidity (%) vs. Latitude Linear Regression"
   ]
  },
  {
   "cell_type": "code",
   "execution_count": null,
   "metadata": {},
   "outputs": [],
   "source": []
  },
  {
   "cell_type": "markdown",
   "metadata": {},
   "source": [
    "####  Northern Hemisphere - Cloudiness (%) vs. Latitude Linear Regression"
   ]
  },
  {
   "cell_type": "code",
   "execution_count": null,
   "metadata": {},
   "outputs": [],
   "source": []
  },
  {
   "cell_type": "markdown",
   "metadata": {},
   "source": [
    "####  Southern Hemisphere - Cloudiness (%) vs. Latitude Linear Regression"
   ]
  },
  {
   "cell_type": "code",
   "execution_count": null,
   "metadata": {},
   "outputs": [],
   "source": []
  },
  {
   "cell_type": "markdown",
   "metadata": {},
   "source": [
    "####  Northern Hemisphere - Wind Speed (mph) vs. Latitude Linear Regression"
   ]
  },
  {
   "cell_type": "code",
   "execution_count": null,
   "metadata": {},
   "outputs": [],
   "source": []
  },
  {
   "cell_type": "markdown",
   "metadata": {},
   "source": [
    "####  Southern Hemisphere - Wind Speed (mph) vs. Latitude Linear Regression"
   ]
  },
  {
   "cell_type": "code",
   "execution_count": null,
   "metadata": {},
   "outputs": [],
   "source": []
  },
  {
   "cell_type": "code",
   "execution_count": null,
   "metadata": {},
   "outputs": [],
   "source": []
  }
 ],
 "metadata": {
  "anaconda-cloud": {},
  "kernel_info": {
   "name": "python3"
  },
  "kernelspec": {
   "display_name": "Python 3",
   "language": "python",
   "name": "python3"
  },
  "language_info": {
   "codemirror_mode": {
    "name": "ipython",
    "version": 3
   },
   "file_extension": ".py",
   "mimetype": "text/x-python",
   "name": "python",
   "nbconvert_exporter": "python",
   "pygments_lexer": "ipython3",
   "version": "3.8.5"
  },
  "latex_envs": {
   "LaTeX_envs_menu_present": true,
   "autoclose": false,
   "autocomplete": true,
   "bibliofile": "biblio.bib",
   "cite_by": "apalike",
   "current_citInitial": 1,
   "eqLabelWithNumbers": true,
   "eqNumInitial": 1,
   "hotkeys": {
    "equation": "Ctrl-E",
    "itemize": "Ctrl-I"
   },
   "labels_anchors": false,
   "latex_user_defs": false,
   "report_style_numbering": false,
   "user_envs_cfg": false
  },
  "nteract": {
   "version": "0.12.3"
  }
 },
 "nbformat": 4,
 "nbformat_minor": 2
}
