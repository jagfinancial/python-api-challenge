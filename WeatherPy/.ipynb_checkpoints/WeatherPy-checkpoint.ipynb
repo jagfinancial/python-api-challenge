{
 "cells": [
  {
   "cell_type": "markdown",
   "metadata": {},
   "source": [
    "# WeatherPy\n",
    "----\n",
    "\n",
    "#### Note\n",
    "* Instructions have been included for each segment. You do not have to follow them exactly, but they are included to help you think through the steps."
   ]
  },
  {
   "cell_type": "code",
   "execution_count": 1,
   "metadata": {
    "scrolled": true
   },
   "outputs": [],
   "source": [
    "# Dependencies and Setup\n",
    "import matplotlib.pyplot as plt\n",
    "import pandas as pd\n",
    "import numpy as np\n",
    "import requests\n",
    "import time\n",
    "from scipy.stats import linregress\n",
    "\n",
    "# Import API key\n",
    "from api_keys import weather_api_key\n",
    "temp_units=\"Imperial\"\n",
    "\n",
    "# Incorporated citipy to determine city based on latitude and longitude\n",
    "from citipy import citipy\n",
    "\n",
    "# Output File (CSV)\n",
    "cities_pd=pd.read_csv(\"../output_data/cities.csv\")\n",
    "cities_pd.head()\n",
    "\n",
    "lat_range = (-90, 90)\n",
    "lng_range = (-180, 180)\n"
   ]
  },
  {
   "cell_type": "markdown",
   "metadata": {},
   "source": [
    "## Generate Cities List"
   ]
  },
  {
   "cell_type": "code",
   "execution_count": 2,
   "metadata": {},
   "outputs": [
    {
     "data": {
      "text/plain": [
       "617"
      ]
     },
     "execution_count": 2,
     "metadata": {},
     "output_type": "execute_result"
    }
   ],
   "source": [
    "# List for holding latitudes and longtitudes and cities\n",
    "lat_lngs = []\n",
    "cities = []\n",
    "\n",
    "# Create a set of random lat and lng combinations\n",
    "lats = np.random.uniform(lat_range[0], lat_range[1], size=1500)\n",
    "lngs = np.random.uniform(lng_range[0], lng_range[1], size=1500)\n",
    "lat_lngs = zip(lats, lngs)\n",
    "\n",
    "# Identify nearest city for each lat, lng combination\n",
    "for lat_lng in lat_lngs:\n",
    "    city = citipy.nearest_city(lat_lng[0], lat_lng[1]).city_name\n",
    "    \n",
    "    # If the city is unique, then add it to a our cities list\n",
    "    if city not in cities:\n",
    "        cities.append(city)\n",
    "\n",
    "# Print the city count to confirm sufficient count\n",
    "len(cities)\n",
    " "
   ]
  },
  {
   "cell_type": "markdown",
   "metadata": {},
   "source": [
    "### Perform API Calls\n",
    "* Perform a weather check on each city using a series of successive API calls.\n",
    "* Include a print log of each city as it'sbeing processed (with the city number and city name).\n"
   ]
  },
  {
   "cell_type": "code",
   "execution_count": 3,
   "metadata": {},
   "outputs": [
    {
     "data": {
      "text/html": [
       "<div>\n",
       "<style scoped>\n",
       "    .dataframe tbody tr th:only-of-type {\n",
       "        vertical-align: middle;\n",
       "    }\n",
       "\n",
       "    .dataframe tbody tr th {\n",
       "        vertical-align: top;\n",
       "    }\n",
       "\n",
       "    .dataframe thead th {\n",
       "        text-align: right;\n",
       "    }\n",
       "</style>\n",
       "<table border=\"1\" class=\"dataframe\">\n",
       "  <thead>\n",
       "    <tr style=\"text-align: right;\">\n",
       "      <th></th>\n",
       "      <th>City</th>\n",
       "      <th>Cloudiness</th>\n",
       "      <th>Date</th>\n",
       "      <th>Humidity</th>\n",
       "      <th>Lat</th>\n",
       "      <th>Lng</th>\n",
       "      <th>Max Temp</th>\n",
       "      <th>Windspeed</th>\n",
       "    </tr>\n",
       "  </thead>\n",
       "  <tbody>\n",
       "    <tr>\n",
       "      <th>0</th>\n",
       "      <td>mooi river</td>\n",
       "      <td></td>\n",
       "      <td></td>\n",
       "      <td></td>\n",
       "      <td></td>\n",
       "      <td></td>\n",
       "      <td></td>\n",
       "      <td></td>\n",
       "    </tr>\n",
       "    <tr>\n",
       "      <th>1</th>\n",
       "      <td>evansville</td>\n",
       "      <td></td>\n",
       "      <td></td>\n",
       "      <td></td>\n",
       "      <td></td>\n",
       "      <td></td>\n",
       "      <td></td>\n",
       "      <td></td>\n",
       "    </tr>\n",
       "    <tr>\n",
       "      <th>2</th>\n",
       "      <td>pontes e lacerda</td>\n",
       "      <td></td>\n",
       "      <td></td>\n",
       "      <td></td>\n",
       "      <td></td>\n",
       "      <td></td>\n",
       "      <td></td>\n",
       "      <td></td>\n",
       "    </tr>\n",
       "    <tr>\n",
       "      <th>3</th>\n",
       "      <td>attawapiskat</td>\n",
       "      <td></td>\n",
       "      <td></td>\n",
       "      <td></td>\n",
       "      <td></td>\n",
       "      <td></td>\n",
       "      <td></td>\n",
       "      <td></td>\n",
       "    </tr>\n",
       "    <tr>\n",
       "      <th>4</th>\n",
       "      <td>dikson</td>\n",
       "      <td></td>\n",
       "      <td></td>\n",
       "      <td></td>\n",
       "      <td></td>\n",
       "      <td></td>\n",
       "      <td></td>\n",
       "      <td></td>\n",
       "    </tr>\n",
       "  </tbody>\n",
       "</table>\n",
       "</div>"
      ],
      "text/plain": [
       "               City Cloudiness Date Humidity Lat Lng Max Temp Windspeed\n",
       "0        mooi river                                                    \n",
       "1        evansville                                                    \n",
       "2  pontes e lacerda                                                    \n",
       "3      attawapiskat                                                    \n",
       "4            dikson                                                    "
      ]
     },
     "execution_count": 3,
     "metadata": {},
     "output_type": "execute_result"
    }
   ],
   "source": [
    "cities_pd=pd.DataFrame({'City': cities, 'Cloudiness': \"\", 'Date': \"\",\n",
    "                            'Humidity': \"\", 'Lat': \"\", 'Lng': \"\", 'Max Temp': \"\", 'Windspeed': \"\"})\n",
    "cities_pd.head()"
   ]
  },
  {
   "cell_type": "code",
   "execution_count": 4,
   "metadata": {},
   "outputs": [
    {
     "data": {
      "text/plain": [
       "'http://api.openweathermap.org/data/2.5/weather?appid=3796d9507516315ec2ebdc39473cc6ea&units=Imperial&q='"
      ]
     },
     "execution_count": 4,
     "metadata": {},
     "output_type": "execute_result"
    }
   ],
   "source": [
    "base_url = 'http://api.openweathermap.org/data/2.5/weather?'\n",
    "query_url = f\"{base_url}appid={weather_api_key}&units={temp_units}&q=\"\n",
    "query_url\n"
   ]
  },
  {
   "cell_type": "code",
   "execution_count": 5,
   "metadata": {},
   "outputs": [
    {
     "name": "stdout",
     "output_type": "stream",
     "text": [
      "City not found. Skipping...\n",
      "Processing Record 1 of Set 1 | evansville\n",
      "Processing Record 2 of Set 1 | pontes e lacerda\n",
      "City not found. Skipping...\n",
      "Processing Record 3 of Set 1 | dikson\n",
      "Processing Record 4 of Set 1 | jamestown\n",
      "Processing Record 5 of Set 1 | pahrump\n",
      "Processing Record 6 of Set 1 | yulara\n",
      "Processing Record 7 of Set 1 | harper\n",
      "City not found. Skipping...\n",
      "Processing Record 8 of Set 1 | ushuaia\n",
      "Processing Record 9 of Set 1 | saskylakh\n",
      "Processing Record 10 of Set 1 | cancun\n",
      "Processing Record 11 of Set 1 | port alfred\n",
      "Processing Record 12 of Set 1 | souillac\n",
      "Processing Record 13 of Set 1 | flinders\n",
      "Processing Record 14 of Set 1 | hasaki\n",
      "Processing Record 15 of Set 1 | uberaba\n",
      "Processing Record 16 of Set 1 | mys shmidta\n",
      "Processing Record 17 of Set 1 | cape town\n",
      "Processing Record 18 of Set 1 | yellowknife\n",
      "Processing Record 19 of Set 1 | bredasdorp\n",
      "City not found. Skipping...\n",
      "Processing Record 20 of Set 1 | apiai\n",
      "City not found. Skipping...\n",
      "City not found. Skipping...\n",
      "Processing Record 21 of Set 1 | fukue\n",
      "Processing Record 22 of Set 1 | airai\n",
      "Processing Record 23 of Set 1 | hobart\n",
      "Processing Record 24 of Set 1 | lasa\n",
      "Processing Record 25 of Set 1 | xinzhi\n",
      "Processing Record 26 of Set 1 | busselton\n",
      "Processing Record 27 of Set 1 | punta arenas\n",
      "Processing Record 28 of Set 1 | canutama\n",
      "Processing Record 29 of Set 1 | aras\n",
      "Processing Record 30 of Set 1 | kraskino\n",
      "Processing Record 31 of Set 1 | upernavik\n",
      "Processing Record 32 of Set 1 | esperance\n",
      "Processing Record 33 of Set 1 | kaitangata\n",
      "City not found. Skipping...\n",
      "Processing Record 34 of Set 1 | jumla\n",
      "Processing Record 35 of Set 1 | dudinka\n",
      "Processing Record 36 of Set 1 | atuona\n",
      "Processing Record 37 of Set 1 | darhan\n",
      "Processing Record 38 of Set 1 | cabo san lucas\n",
      "Processing Record 39 of Set 1 | ivanovka\n",
      "Processing Record 40 of Set 1 | faanui\n",
      "City not found. Skipping...\n",
      "City not found. Skipping...\n",
      "Processing Record 41 of Set 1 | beringovskiy\n",
      "Processing Record 42 of Set 1 | pacific grove\n",
      "Processing Record 43 of Set 1 | xambioa\n",
      "Processing Record 44 of Set 1 | east london\n",
      "Processing Record 45 of Set 1 | casablanca\n",
      "Processing Record 46 of Set 1 | avarua\n",
      "Processing Record 47 of Set 1 | bluff\n",
      "Processing Record 48 of Set 1 | takoradi\n",
      "Processing Record 49 of Set 1 | leningradskiy\n",
      "Processing Record 1 of Set 2 | longyearbyen\n",
      "Processing Record 2 of Set 2 | mount gambier\n",
      "Processing Record 3 of Set 2 | kapaa\n",
      "Processing Record 4 of Set 2 | gien\n",
      "Processing Record 5 of Set 2 | mataura\n",
      "Processing Record 6 of Set 2 | barrow\n",
      "Processing Record 7 of Set 2 | cherskiy\n",
      "City not found. Skipping...\n",
      "Processing Record 8 of Set 2 | qaanaaq\n",
      "Processing Record 9 of Set 2 | ostrovnoy\n",
      "Processing Record 10 of Set 2 | carnarvon\n",
      "Processing Record 11 of Set 2 | vaini\n",
      "Processing Record 12 of Set 2 | pangai\n",
      "Processing Record 13 of Set 2 | tanete\n",
      "Processing Record 14 of Set 2 | puerto ayora\n",
      "Processing Record 15 of Set 2 | cidreira\n",
      "Processing Record 16 of Set 2 | guerrero negro\n",
      "Processing Record 17 of Set 2 | gunnedah\n",
      "Processing Record 18 of Set 2 | salalah\n",
      "Processing Record 19 of Set 2 | victoria\n",
      "Processing Record 20 of Set 2 | kremenchuk\n",
      "Processing Record 21 of Set 2 | tiksi\n",
      "Processing Record 22 of Set 2 | lidkoping\n",
      "Processing Record 23 of Set 2 | pangnirtung\n",
      "Processing Record 24 of Set 2 | palafrugell\n",
      "Processing Record 25 of Set 2 | sitka\n",
      "Processing Record 26 of Set 2 | grand river south east\n",
      "Processing Record 27 of Set 2 | chuy\n",
      "Processing Record 28 of Set 2 | awbari\n",
      "Processing Record 29 of Set 2 | waipawa\n",
      "City not found. Skipping...\n",
      "Processing Record 30 of Set 2 | juru\n",
      "Processing Record 31 of Set 2 | arlit\n",
      "Processing Record 32 of Set 2 | nouakchott\n",
      "Processing Record 33 of Set 2 | rio grande\n",
      "Processing Record 34 of Set 2 | azangaro\n",
      "Processing Record 35 of Set 2 | san andres\n",
      "City not found. Skipping...\n",
      "City not found. Skipping...\n",
      "Processing Record 36 of Set 2 | predivinsk\n",
      "Processing Record 37 of Set 2 | thompson\n",
      "Processing Record 38 of Set 2 | hermanus\n",
      "Processing Record 39 of Set 2 | comodoro rivadavia\n",
      "Processing Record 40 of Set 2 | karratha\n",
      "Processing Record 41 of Set 2 | acapulco\n",
      "City not found. Skipping...\n",
      "Processing Record 42 of Set 2 | naze\n",
      "Processing Record 43 of Set 2 | kuusamo\n",
      "Processing Record 44 of Set 2 | vryburg\n",
      "Processing Record 45 of Set 2 | yar-sale\n",
      "Processing Record 46 of Set 2 | albany\n",
      "Processing Record 47 of Set 2 | tateyama\n",
      "Processing Record 48 of Set 2 | tuktoyaktuk\n",
      "Processing Record 49 of Set 2 | hami\n",
      "Processing Record 1 of Set 3 | atar\n",
      "Processing Record 2 of Set 3 | namibe\n",
      "Processing Record 3 of Set 3 | esso\n",
      "Processing Record 4 of Set 3 | hithadhoo\n",
      "Processing Record 5 of Set 3 | imeni poliny osipenko\n",
      "Processing Record 6 of Set 3 | clyde river\n",
      "Processing Record 7 of Set 3 | tasiilaq\n",
      "Processing Record 8 of Set 3 | solnechnyy\n",
      "Processing Record 9 of Set 3 | emba\n",
      "Processing Record 10 of Set 3 | geraldton\n",
      "Processing Record 11 of Set 3 | basco\n",
      "Processing Record 12 of Set 3 | lagoa\n",
      "Processing Record 13 of Set 3 | arraial do cabo\n",
      "Processing Record 14 of Set 3 | srednekolymsk\n",
      "City not found. Skipping...\n",
      "Processing Record 15 of Set 3 | torbay\n",
      "Processing Record 16 of Set 3 | bonavista\n",
      "Processing Record 17 of Set 3 | lata\n",
      "Processing Record 18 of Set 3 | penzance\n",
      "Processing Record 19 of Set 3 | daru\n",
      "Processing Record 20 of Set 3 | moyale\n",
      "Processing Record 21 of Set 3 | kruisfontein\n",
      "Processing Record 22 of Set 3 | khatanga\n",
      "City not found. Skipping...\n",
      "Processing Record 23 of Set 3 | hilo\n",
      "Processing Record 24 of Set 3 | bengkulu\n",
      "Processing Record 25 of Set 3 | kang\n",
      "Processing Record 26 of Set 3 | iwanai\n",
      "Processing Record 27 of Set 3 | ancud\n",
      "Processing Record 28 of Set 3 | klaksvik\n",
      "Processing Record 29 of Set 3 | bathsheba\n",
      "Processing Record 30 of Set 3 | tongliao\n",
      "Processing Record 31 of Set 3 | saint-philippe\n",
      "Processing Record 32 of Set 3 | cockburn town\n",
      "City not found. Skipping...\n",
      "Processing Record 33 of Set 3 | voghera\n",
      "Processing Record 34 of Set 3 | rikitea\n",
      "Processing Record 35 of Set 3 | san quintin\n",
      "Processing Record 36 of Set 3 | roma\n",
      "Processing Record 37 of Set 3 | tura\n",
      "Processing Record 38 of Set 3 | ilulissat\n",
      "Processing Record 39 of Set 3 | ishigaki\n",
      "Processing Record 40 of Set 3 | kenora\n",
      "Processing Record 41 of Set 3 | meulaboh\n",
      "Processing Record 42 of Set 3 | luwuk\n",
      "City not found. Skipping...\n",
      "Processing Record 43 of Set 3 | lebu\n",
      "Processing Record 44 of Set 3 | verkhnyaya inta\n",
      "City not found. Skipping...\n",
      "Processing Record 45 of Set 3 | sterling\n",
      "Processing Record 46 of Set 3 | bijar\n",
      "Processing Record 47 of Set 3 | bambous virieux\n",
      "Processing Record 48 of Set 3 | ust-omchug\n",
      "Processing Record 49 of Set 3 | buribay\n",
      "Processing Record 1 of Set 4 | lompoc\n",
      "Processing Record 2 of Set 4 | port augusta\n",
      "Processing Record 3 of Set 4 | yeniseysk\n",
      "Processing Record 4 of Set 4 | klamath falls\n",
      "Processing Record 5 of Set 4 | okha\n",
      "Processing Record 6 of Set 4 | charlottetown\n",
      "Processing Record 7 of Set 4 | muros\n",
      "Processing Record 8 of Set 4 | fort saint james\n",
      "Processing Record 9 of Set 4 | abaza\n",
      "Processing Record 10 of Set 4 | khonsa\n",
      "Processing Record 11 of Set 4 | bethel\n",
      "Processing Record 12 of Set 4 | antofagasta\n",
      "Processing Record 13 of Set 4 | taywarah\n",
      "Processing Record 14 of Set 4 | kansk\n",
      "Processing Record 15 of Set 4 | sao jose da coroa grande\n",
      "Processing Record 16 of Set 4 | makakilo city\n",
      "Processing Record 17 of Set 4 | griffith\n",
      "Processing Record 18 of Set 4 | hambantota\n",
      "Processing Record 19 of Set 4 | khon buri\n",
      "Processing Record 20 of Set 4 | pisco\n",
      "Processing Record 21 of Set 4 | iqaluit\n",
      "Processing Record 22 of Set 4 | san carlos\n",
      "Processing Record 23 of Set 4 | jacareacanga\n",
      "Processing Record 24 of Set 4 | dongsheng\n",
      "City not found. Skipping...\n",
      "Processing Record 25 of Set 4 | ewo\n",
      "Processing Record 26 of Set 4 | butaritari\n",
      "Processing Record 27 of Set 4 | bambanglipuro\n",
      "Processing Record 28 of Set 4 | guruvayur\n",
      "City not found. Skipping...\n",
      "Processing Record 29 of Set 4 | tonantins\n",
      "Processing Record 30 of Set 4 | korla\n",
      "City not found. Skipping...\n",
      "Processing Record 31 of Set 4 | kieta\n",
      "Processing Record 32 of Set 4 | cayenne\n",
      "Processing Record 33 of Set 4 | kavaratti\n",
      "Processing Record 34 of Set 4 | ribeira grande\n",
      "Processing Record 35 of Set 4 | ponta do sol\n",
      "Processing Record 36 of Set 4 | bilma\n",
      "Processing Record 37 of Set 4 | brae\n",
      "Processing Record 38 of Set 4 | dakar\n"
     ]
    },
    {
     "name": "stdout",
     "output_type": "stream",
     "text": [
      "Processing Record 39 of Set 4 | avera\n",
      "Processing Record 40 of Set 4 | san cristobal\n",
      "City not found. Skipping...\n",
      "Processing Record 41 of Set 4 | mgandu\n",
      "Processing Record 42 of Set 4 | vila velha\n",
      "Processing Record 43 of Set 4 | cam ranh\n",
      "City not found. Skipping...\n",
      "Processing Record 44 of Set 4 | talas\n",
      "Processing Record 45 of Set 4 | codrington\n",
      "City not found. Skipping...\n",
      "Processing Record 46 of Set 4 | port elizabeth\n",
      "City not found. Skipping...\n",
      "Processing Record 47 of Set 4 | coihaique\n",
      "Processing Record 48 of Set 4 | port lincoln\n",
      "Processing Record 49 of Set 4 | merke\n",
      "Processing Record 1 of Set 5 | katsuura\n",
      "Processing Record 2 of Set 5 | berbera\n",
      "Processing Record 3 of Set 5 | paamiut\n",
      "Processing Record 4 of Set 5 | esil\n",
      "City not found. Skipping...\n",
      "Processing Record 5 of Set 5 | santa cruz de tenerife\n",
      "Processing Record 6 of Set 5 | iracoubo\n",
      "Processing Record 7 of Set 5 | carlos chagas\n",
      "Processing Record 8 of Set 5 | tefe\n",
      "Processing Record 9 of Set 5 | aksarka\n",
      "Processing Record 10 of Set 5 | provideniya\n",
      "Processing Record 11 of Set 5 | chokurdakh\n",
      "Processing Record 12 of Set 5 | okhotsk\n",
      "Processing Record 13 of Set 5 | araguaina\n",
      "Processing Record 14 of Set 5 | sibolga\n",
      "Processing Record 15 of Set 5 | laurel\n",
      "Processing Record 16 of Set 5 | qiongshan\n",
      "Processing Record 17 of Set 5 | nuuk\n",
      "Processing Record 18 of Set 5 | manzhouli\n",
      "Processing Record 19 of Set 5 | urumqi\n",
      "Processing Record 20 of Set 5 | ustka\n",
      "Processing Record 21 of Set 5 | alzamay\n",
      "Processing Record 22 of Set 5 | boende\n",
      "Processing Record 23 of Set 5 | america dourada\n",
      "Processing Record 24 of Set 5 | aklavik\n",
      "Processing Record 25 of Set 5 | havelock\n",
      "Processing Record 26 of Set 5 | alice springs\n",
      "Processing Record 27 of Set 5 | campos\n",
      "Processing Record 28 of Set 5 | dicabisagan\n",
      "Processing Record 29 of Set 5 | port moresby\n",
      "Processing Record 30 of Set 5 | brigantine\n",
      "Processing Record 31 of Set 5 | salinopolis\n",
      "Processing Record 32 of Set 5 | zhigansk\n",
      "Processing Record 33 of Set 5 | anadyr\n",
      "Processing Record 34 of Set 5 | georgetown\n",
      "Processing Record 35 of Set 5 | legnago\n",
      "Processing Record 36 of Set 5 | batticaloa\n",
      "Processing Record 37 of Set 5 | new norfolk\n",
      "City not found. Skipping...\n",
      "Processing Record 38 of Set 5 | hilpoltstein\n",
      "Processing Record 39 of Set 5 | sao gabriel da cachoeira\n",
      "Processing Record 40 of Set 5 | camacha\n",
      "Processing Record 41 of Set 5 | punta de piedra\n",
      "Processing Record 42 of Set 5 | trincomalee\n",
      "Processing Record 43 of Set 5 | takaka\n",
      "Processing Record 44 of Set 5 | rawson\n",
      "Processing Record 45 of Set 5 | tessalit\n",
      "Processing Record 46 of Set 5 | constitucion\n",
      "City not found. Skipping...\n",
      "City not found. Skipping...\n",
      "Processing Record 47 of Set 5 | pingliang\n",
      "Processing Record 48 of Set 5 | elizabeth city\n",
      "Processing Record 49 of Set 5 | san patricio\n",
      "Processing Record 1 of Set 6 | padang\n",
      "Processing Record 2 of Set 6 | gat\n",
      "Processing Record 3 of Set 6 | kungalv\n",
      "Processing Record 4 of Set 6 | husavik\n",
      "Processing Record 5 of Set 6 | qaqortoq\n",
      "Processing Record 6 of Set 6 | oksfjord\n",
      "Processing Record 7 of Set 6 | saldanha\n",
      "Processing Record 8 of Set 6 | calvinia\n",
      "Processing Record 9 of Set 6 | atyrau\n",
      "City not found. Skipping...\n",
      "Processing Record 10 of Set 6 | weirton\n",
      "Processing Record 11 of Set 6 | port blair\n",
      "Processing Record 12 of Set 6 | tuatapere\n",
      "Processing Record 13 of Set 6 | malpe\n",
      "Processing Record 14 of Set 6 | amahai\n",
      "Processing Record 15 of Set 6 | mamakan\n",
      "Processing Record 16 of Set 6 | leh\n",
      "Processing Record 17 of Set 6 | nishihara\n",
      "City not found. Skipping...\n",
      "Processing Record 18 of Set 6 | fortuna\n",
      "Processing Record 19 of Set 6 | ville-marie\n",
      "Processing Record 20 of Set 6 | eureka\n",
      "City not found. Skipping...\n",
      "City not found. Skipping...\n",
      "City not found. Skipping...\n",
      "Processing Record 21 of Set 6 | noumea\n",
      "Processing Record 22 of Set 6 | aksu\n",
      "Processing Record 23 of Set 6 | shahpur\n",
      "Processing Record 24 of Set 6 | mahebourg\n",
      "Processing Record 25 of Set 6 | sorland\n",
      "City not found. Skipping...\n",
      "Processing Record 26 of Set 6 | soyo\n",
      "Processing Record 27 of Set 6 | praia da vitoria\n",
      "Processing Record 28 of Set 6 | nayoro\n",
      "Processing Record 29 of Set 6 | eyl\n",
      "Processing Record 30 of Set 6 | pierre\n",
      "Processing Record 31 of Set 6 | fairbanks\n",
      "Processing Record 32 of Set 6 | abnub\n",
      "Processing Record 33 of Set 6 | mar del plata\n",
      "Processing Record 34 of Set 6 | mchinji\n",
      "Processing Record 35 of Set 6 | kabanjahe\n",
      "Processing Record 36 of Set 6 | dingle\n",
      "Processing Record 37 of Set 6 | sarh\n",
      "City not found. Skipping...\n",
      "Processing Record 38 of Set 6 | sterlitamak\n",
      "City not found. Skipping...\n",
      "Processing Record 39 of Set 6 | acarau\n",
      "Processing Record 40 of Set 6 | pochutla\n",
      "City not found. Skipping...\n",
      "Processing Record 41 of Set 6 | picton\n",
      "City not found. Skipping...\n",
      "Processing Record 42 of Set 6 | jasper\n",
      "Processing Record 43 of Set 6 | phan rang\n",
      "Processing Record 44 of Set 6 | jian\n",
      "Processing Record 45 of Set 6 | lander\n",
      "Processing Record 46 of Set 6 | vardo\n",
      "City not found. Skipping...\n",
      "Processing Record 47 of Set 6 | katherine\n",
      "Processing Record 48 of Set 6 | dunedin\n",
      "Processing Record 49 of Set 6 | teya\n",
      "Processing Record 1 of Set 7 | pevek\n",
      "Processing Record 2 of Set 7 | kamaishi\n",
      "Processing Record 3 of Set 7 | lorengau\n",
      "Processing Record 4 of Set 7 | fortuna foothills\n",
      "Processing Record 5 of Set 7 | rocha\n",
      "City not found. Skipping...\n",
      "Processing Record 6 of Set 7 | shaoyang\n",
      "Processing Record 7 of Set 7 | areosa\n",
      "Processing Record 8 of Set 7 | sorong\n",
      "Processing Record 9 of Set 7 | ashland\n",
      "Processing Record 10 of Set 7 | asau\n",
      "Processing Record 11 of Set 7 | portland\n",
      "Processing Record 12 of Set 7 | castro\n",
      "Processing Record 13 of Set 7 | paveh\n",
      "Processing Record 14 of Set 7 | nikolskoye\n",
      "Processing Record 15 of Set 7 | taloqan\n",
      "Processing Record 16 of Set 7 | severo-kurilsk\n",
      "Processing Record 17 of Set 7 | coahuayana\n",
      "Processing Record 18 of Set 7 | crawfordsville\n",
      "Processing Record 19 of Set 7 | yaring\n",
      "Processing Record 20 of Set 7 | guarapuava\n",
      "Processing Record 21 of Set 7 | ouango\n",
      "Processing Record 22 of Set 7 | beruwala\n",
      "Processing Record 23 of Set 7 | kavieng\n",
      "Processing Record 24 of Set 7 | opunake\n",
      "Processing Record 25 of Set 7 | jinchang\n",
      "City not found. Skipping...\n",
      "Processing Record 26 of Set 7 | tairua\n",
      "Processing Record 27 of Set 7 | dandong\n",
      "Processing Record 28 of Set 7 | naberera\n",
      "Processing Record 29 of Set 7 | moussoro\n",
      "Processing Record 30 of Set 7 | trelew\n",
      "Processing Record 31 of Set 7 | tahoua\n",
      "Processing Record 32 of Set 7 | bonfim\n",
      "City not found. Skipping...\n",
      "Processing Record 33 of Set 7 | cairns\n",
      "Processing Record 34 of Set 7 | sao joao da barra\n",
      "Processing Record 35 of Set 7 | sergeyevka\n",
      "Processing Record 36 of Set 7 | san rafael abajo\n",
      "Processing Record 37 of Set 7 | banyo\n",
      "Processing Record 38 of Set 7 | alofi\n",
      "Processing Record 39 of Set 7 | chissamba\n",
      "Processing Record 40 of Set 7 | kodiak\n",
      "Processing Record 41 of Set 7 | evensk\n",
      "City not found. Skipping...\n",
      "City not found. Skipping...\n",
      "Processing Record 42 of Set 7 | high level\n",
      "Processing Record 43 of Set 7 | baghdad\n",
      "Processing Record 44 of Set 7 | singida\n",
      "Processing Record 45 of Set 7 | mahajanga\n",
      "Processing Record 46 of Set 7 | narsaq\n",
      "Processing Record 47 of Set 7 | zverinogolovskoye\n",
      "Processing Record 48 of Set 7 | japura\n",
      "Processing Record 49 of Set 7 | caceres\n",
      "Processing Record 1 of Set 8 | kununurra\n",
      "Processing Record 2 of Set 8 | hofn\n",
      "Processing Record 3 of Set 8 | karpogory\n",
      "Processing Record 4 of Set 8 | mantena\n",
      "Processing Record 5 of Set 8 | huarmey\n",
      "Processing Record 6 of Set 8 | kawalu\n",
      "Processing Record 7 of Set 8 | marzuq\n",
      "Processing Record 8 of Set 8 | apastovo\n",
      "Processing Record 9 of Set 8 | xining\n",
      "Processing Record 10 of Set 8 | boyolangu\n",
      "Processing Record 11 of Set 8 | vite\n",
      "Processing Record 12 of Set 8 | morehead\n",
      "Processing Record 13 of Set 8 | morant bay\n",
      "Processing Record 14 of Set 8 | coquimbo\n",
      "Processing Record 15 of Set 8 | russell\n",
      "City not found. Skipping...\n",
      "Processing Record 16 of Set 8 | jiaocheng\n",
      "Processing Record 17 of Set 8 | labuan\n",
      "Processing Record 18 of Set 8 | barra dos coqueiros\n",
      "Processing Record 19 of Set 8 | sambava\n",
      "Processing Record 20 of Set 8 | sistranda\n",
      "Processing Record 21 of Set 8 | bur gabo\n",
      "Processing Record 22 of Set 8 | lianran\n",
      "Processing Record 23 of Set 8 | izumo\n",
      "Processing Record 24 of Set 8 | dauphin\n",
      "Processing Record 25 of Set 8 | boa vista\n",
      "Processing Record 26 of Set 8 | fort nelson\n"
     ]
    },
    {
     "name": "stdout",
     "output_type": "stream",
     "text": [
      "Processing Record 27 of Set 8 | diamantino\n",
      "Processing Record 28 of Set 8 | calhoun\n",
      "Processing Record 29 of Set 8 | skjervoy\n",
      "Processing Record 30 of Set 8 | umba\n",
      "City not found. Skipping...\n",
      "City not found. Skipping...\n",
      "City not found. Skipping...\n",
      "City not found. Skipping...\n",
      "City not found. Skipping...\n",
      "Processing Record 31 of Set 8 | lima\n",
      "Processing Record 32 of Set 8 | severobaykalsk\n",
      "Processing Record 33 of Set 8 | cap malheureux\n",
      "Processing Record 34 of Set 8 | manta\n",
      "Processing Record 35 of Set 8 | batagay-alyta\n",
      "Processing Record 36 of Set 8 | andujar\n",
      "Processing Record 37 of Set 8 | progreso\n",
      "Processing Record 38 of Set 8 | margate\n",
      "Processing Record 39 of Set 8 | grindavik\n",
      "Processing Record 40 of Set 8 | winslow\n",
      "Processing Record 41 of Set 8 | bowen\n",
      "Processing Record 42 of Set 8 | lyuban\n",
      "Processing Record 43 of Set 8 | usinsk\n",
      "Processing Record 44 of Set 8 | takahashi\n",
      "Processing Record 45 of Set 8 | calnali\n",
      "Processing Record 46 of Set 8 | zabid\n",
      "Processing Record 47 of Set 8 | lagos\n",
      "Processing Record 48 of Set 8 | mareeba\n",
      "Processing Record 49 of Set 8 | bairiki\n",
      "Processing Record 1 of Set 9 | santa isabel do rio negro\n",
      "Processing Record 2 of Set 9 | turayf\n",
      "Processing Record 3 of Set 9 | santa rosa\n",
      "Processing Record 4 of Set 9 | sao filipe\n",
      "Processing Record 5 of Set 9 | aranos\n",
      "Processing Record 6 of Set 9 | temiscaming\n",
      "Processing Record 7 of Set 9 | novaya igirma\n",
      "Processing Record 8 of Set 9 | clarence town\n",
      "Processing Record 9 of Set 9 | southbridge\n",
      "City not found. Skipping...\n",
      "Processing Record 10 of Set 9 | havoysund\n",
      "Processing Record 11 of Set 9 | ambon\n",
      "Processing Record 12 of Set 9 | bonthe\n",
      "Processing Record 13 of Set 9 | shimoda\n",
      "Processing Record 14 of Set 9 | olafsvik\n",
      "Processing Record 15 of Set 9 | berlevag\n",
      "Processing Record 16 of Set 9 | nador\n",
      "Processing Record 17 of Set 9 | egvekinot\n",
      "Processing Record 18 of Set 9 | lexington\n",
      "Processing Record 19 of Set 9 | norman wells\n",
      "Processing Record 20 of Set 9 | vestmannaeyjar\n",
      "Processing Record 21 of Set 9 | kurumkan\n",
      "Processing Record 22 of Set 9 | kirakira\n",
      "Processing Record 23 of Set 9 | westport\n",
      "Processing Record 24 of Set 9 | north bend\n",
      "Processing Record 25 of Set 9 | manakara\n",
      "City not found. Skipping...\n",
      "Processing Record 26 of Set 9 | komsomolskiy\n",
      "Processing Record 27 of Set 9 | candelaria\n",
      "Processing Record 28 of Set 9 | innisfail\n",
      "Processing Record 29 of Set 9 | pangkalanbuun\n",
      "Processing Record 30 of Set 9 | tiffin\n",
      "Processing Record 31 of Set 9 | cilegon\n",
      "Processing Record 32 of Set 9 | kokkola\n",
      "Processing Record 33 of Set 9 | jingcheng\n",
      "Processing Record 34 of Set 9 | kidal\n",
      "Processing Record 35 of Set 9 | boromo\n",
      "Processing Record 36 of Set 9 | bilibino\n",
      "Processing Record 37 of Set 9 | goderich\n",
      "Processing Record 38 of Set 9 | lake city\n",
      "Processing Record 39 of Set 9 | vao\n",
      "Processing Record 40 of Set 9 | desaguadero\n",
      "Processing Record 41 of Set 9 | muravlenko\n",
      "Processing Record 42 of Set 9 | chabahar\n",
      "Processing Record 43 of Set 9 | marsa matruh\n",
      "City not found. Skipping...\n",
      "Processing Record 44 of Set 9 | palmer\n",
      "City not found. Skipping...\n",
      "Processing Record 45 of Set 9 | raga\n",
      "Processing Record 46 of Set 9 | george\n",
      "Processing Record 47 of Set 9 | kiunga\n",
      "Processing Record 48 of Set 9 | luanda\n",
      "Processing Record 49 of Set 9 | garowe\n",
      "City not found. Skipping...\n",
      "Processing Record 1 of Set 10 | adre\n",
      "Processing Record 2 of Set 10 | touros\n",
      "Processing Record 3 of Set 10 | vila franca do campo\n",
      "Processing Record 4 of Set 10 | talnakh\n",
      "Processing Record 5 of Set 10 | elko\n",
      "Processing Record 6 of Set 10 | bogashevo\n",
      "Processing Record 7 of Set 10 | parry sound\n",
      "Processing Record 8 of Set 10 | ludvika\n",
      "Processing Record 9 of Set 10 | neyshabur\n",
      "Processing Record 10 of Set 10 | opuwo\n",
      "Processing Record 11 of Set 10 | puerto ayacucho\n",
      "Processing Record 12 of Set 10 | frontera\n",
      "City not found. Skipping...\n",
      "Processing Record 13 of Set 10 | haines junction\n",
      "Processing Record 14 of Set 10 | saint-pierre\n",
      "Processing Record 15 of Set 10 | langres\n",
      "Processing Record 16 of Set 10 | yaransk\n",
      "Processing Record 17 of Set 10 | woudrichem\n",
      "Processing Record 18 of Set 10 | hamilton\n",
      "Processing Record 19 of Set 10 | kincardine\n",
      "Processing Record 20 of Set 10 | nanortalik\n",
      "Processing Record 21 of Set 10 | terrell\n",
      "Processing Record 22 of Set 10 | kamenka\n",
      "Processing Record 23 of Set 10 | oranjestad\n",
      "Processing Record 24 of Set 10 | tamandare\n",
      "Processing Record 25 of Set 10 | ntungamo\n",
      "Processing Record 26 of Set 10 | papetoai\n",
      "Processing Record 27 of Set 10 | kuliyapitiya\n",
      "Processing Record 28 of Set 10 | eura\n",
      "Processing Record 29 of Set 10 | khash\n",
      "City not found. Skipping...\n",
      "City not found. Skipping...\n",
      "Processing Record 30 of Set 10 | ossora\n",
      "Processing Record 31 of Set 10 | chardara\n",
      "Processing Record 32 of Set 10 | vagur\n",
      "Processing Record 33 of Set 10 | zheleznodorozhnyy\n",
      "Processing Record 34 of Set 10 | charters towers\n",
      "Processing Record 35 of Set 10 | petropavlovsk-kamchatskiy\n",
      "Processing Record 36 of Set 10 | azuaga\n",
      "Processing Record 37 of Set 10 | koslan\n",
      "Processing Record 38 of Set 10 | caconda\n",
      "Processing Record 39 of Set 10 | altamira\n",
      "Processing Record 40 of Set 10 | savinskiy\n",
      "Processing Record 41 of Set 10 | bubaque\n",
      "Processing Record 42 of Set 10 | villarrica\n",
      "Processing Record 43 of Set 10 | buraydah\n",
      "City not found. Skipping...\n",
      "Processing Record 44 of Set 10 | shunyi\n",
      "Processing Record 45 of Set 10 | zaragoza\n",
      "Processing Record 46 of Set 10 | mandiana\n",
      "Processing Record 47 of Set 10 | kloulklubed\n",
      "Processing Record 48 of Set 10 | christchurch\n",
      "Processing Record 49 of Set 10 | oranjemund\n",
      "Processing Record 1 of Set 11 | bandar\n",
      "Processing Record 2 of Set 11 | zemetchino\n",
      "Processing Record 3 of Set 11 | mawlaik\n",
      "Processing Record 4 of Set 11 | muqui\n",
      "Processing Record 5 of Set 11 | bolu\n",
      "City not found. Skipping...\n",
      "Processing Record 6 of Set 11 | belaya gora\n",
      "City not found. Skipping...\n",
      "City not found. Skipping...\n",
      "Processing Record 7 of Set 11 | linqiong\n",
      "Processing Record 8 of Set 11 | kushmurun\n",
      "Processing Record 9 of Set 11 | tsaratanana\n",
      "Processing Record 10 of Set 11 | changji\n",
      "Processing Record 11 of Set 11 | olga\n",
      "Processing Record 12 of Set 11 | adrar\n",
      "Processing Record 13 of Set 11 | tsabong\n",
      "Processing Record 14 of Set 11 | lieksa\n",
      "Processing Record 15 of Set 11 | northam\n",
      "Processing Record 16 of Set 11 | port hardy\n",
      "Processing Record 17 of Set 11 | shitkino\n",
      "Processing Record 18 of Set 11 | san lawrenz\n",
      "Processing Record 19 of Set 11 | mudgee\n",
      "Processing Record 20 of Set 11 | wau\n",
      "Processing Record 21 of Set 11 | isangel\n",
      "Processing Record 22 of Set 11 | mount isa\n",
      "Processing Record 23 of Set 11 | cascais\n",
      "Processing Record 24 of Set 11 | black forest\n",
      "Processing Record 25 of Set 11 | mayo\n",
      "Processing Record 26 of Set 11 | jalandhar\n",
      "City not found. Skipping...\n",
      "Processing Record 27 of Set 11 | narasannapeta\n",
      "City not found. Skipping...\n",
      "Processing Record 28 of Set 11 | onega\n",
      "Processing Record 29 of Set 11 | omboue\n",
      "Processing Record 30 of Set 11 | svetlogorsk\n",
      "Processing Record 31 of Set 11 | puerto carreno\n",
      "Processing Record 32 of Set 11 | carballo\n",
      "Processing Record 33 of Set 11 | elat\n",
      "Processing Record 34 of Set 11 | bryan\n",
      "City not found. Skipping...\n",
      "Processing Record 35 of Set 11 | erzin\n",
      "Processing Record 36 of Set 11 | matagami\n",
      "Processing Record 37 of Set 11 | college\n",
      "Processing Record 38 of Set 11 | carauari\n",
      "Processing Record 39 of Set 11 | picota\n",
      "Processing Record 40 of Set 11 | caravelas\n",
      "Processing Record 41 of Set 11 | imbituba\n",
      "Processing Record 42 of Set 11 | leeton\n",
      "Processing Record 43 of Set 11 | linjiang\n",
      "Processing Record 44 of Set 11 | san vicente\n",
      "Processing Record 45 of Set 11 | lamu\n",
      "Processing Record 46 of Set 11 | madrid\n",
      "Processing Record 47 of Set 11 | ilfracombe\n",
      "Processing Record 48 of Set 11 | hirara\n",
      "Processing Record 49 of Set 11 | kendari\n",
      "Processing Record 1 of Set 12 | namatanai\n",
      "Processing Record 2 of Set 12 | gravdal\n",
      "City not found. Skipping...\n",
      "Processing Record 3 of Set 12 | povenets\n",
      "Processing Record 4 of Set 12 | redlands\n",
      "City not found. Skipping...\n",
      "Processing Record 5 of Set 12 | zhicheng\n",
      "Processing Record 6 of Set 12 | horodnytsya\n",
      "Processing Record 7 of Set 12 | sao miguel do tapuio\n",
      "Processing Record 8 of Set 12 | okato\n",
      "Processing Record 9 of Set 12 | trapani\n",
      "------------------------------\n",
      "Data Retrieval Complete\n",
      "------------------------------\n"
     ]
    }
   ],
   "source": [
    "cities1 = []\n",
    "cloudiness1 = []\n",
    "date1 = []\n",
    "humidity1 = []\n",
    "lat1 = []\n",
    "lng1 = []\n",
    "max_temp1 = []\n",
    "wind_speed1 = []\n",
    "\n",
    "# set initial count quantities for organization\n",
    "count_one = 0\n",
    "set_one = 1\n",
    "\n",
    "# loops for creating dataframe columns\n",
    "for city in cities:\n",
    "    try:\n",
    "        response = requests.get(query_url + city.replace(\" \",\"&\")).json()\n",
    "        cloudiness1.append(response['clouds']['all'])\n",
    "        date1.append(response['dt'])\n",
    "        humidity1.append(response['main']['humidity'])\n",
    "        lat1.append(response['coord']['lat'])\n",
    "        lng1.append(response['coord']['lon'])\n",
    "        max_temp1.append(response['main']['temp_max'])\n",
    "        wind_speed1.append(response['wind']['speed'])\n",
    "        if count_one > 48:\n",
    "            count_one = 1\n",
    "            set_one += 1\n",
    "            cities1.append(city)\n",
    "        else:\n",
    "            count_one += 1\n",
    "            cities1.append(city)\n",
    "        print(f\"Processing Record {count_one} of Set {set_one} | {city}\")\n",
    "    except Exception:\n",
    "        print(\"City not found. Skipping...\")\n",
    "print(\"------------------------------\\nData Retrieval Complete\\n------------------------------\")"
   ]
  },
  {
   "cell_type": "code",
   "execution_count": 6,
   "metadata": {},
   "outputs": [
    {
     "data": {
      "text/html": [
       "<div>\n",
       "<style scoped>\n",
       "    .dataframe tbody tr th:only-of-type {\n",
       "        vertical-align: middle;\n",
       "    }\n",
       "\n",
       "    .dataframe tbody tr th {\n",
       "        vertical-align: top;\n",
       "    }\n",
       "\n",
       "    .dataframe thead th {\n",
       "        text-align: right;\n",
       "    }\n",
       "</style>\n",
       "<table border=\"1\" class=\"dataframe\">\n",
       "  <thead>\n",
       "    <tr style=\"text-align: right;\">\n",
       "      <th></th>\n",
       "      <th>City</th>\n",
       "      <th>Cloudiness</th>\n",
       "      <th>Date</th>\n",
       "      <th>Humidity</th>\n",
       "      <th>Lat</th>\n",
       "      <th>Lng</th>\n",
       "      <th>Max Temp</th>\n",
       "      <th>Wind Speed</th>\n",
       "    </tr>\n",
       "  </thead>\n",
       "  <tbody>\n",
       "    <tr>\n",
       "      <th>0</th>\n",
       "      <td>evansville</td>\n",
       "      <td>1</td>\n",
       "      <td>1619791674</td>\n",
       "      <td>52</td>\n",
       "      <td>37.9748</td>\n",
       "      <td>-87.5558</td>\n",
       "      <td>66.00</td>\n",
       "      <td>5.75</td>\n",
       "    </tr>\n",
       "    <tr>\n",
       "      <th>1</th>\n",
       "      <td>pontes e lacerda</td>\n",
       "      <td>75</td>\n",
       "      <td>1619791845</td>\n",
       "      <td>70</td>\n",
       "      <td>-4.8333</td>\n",
       "      <td>-43.3667</td>\n",
       "      <td>86.00</td>\n",
       "      <td>6.91</td>\n",
       "    </tr>\n",
       "    <tr>\n",
       "      <th>2</th>\n",
       "      <td>dikson</td>\n",
       "      <td>81</td>\n",
       "      <td>1619791635</td>\n",
       "      <td>94</td>\n",
       "      <td>73.5069</td>\n",
       "      <td>80.5464</td>\n",
       "      <td>13.46</td>\n",
       "      <td>10.11</td>\n",
       "    </tr>\n",
       "    <tr>\n",
       "      <th>3</th>\n",
       "      <td>jamestown</td>\n",
       "      <td>90</td>\n",
       "      <td>1619791257</td>\n",
       "      <td>87</td>\n",
       "      <td>42.0970</td>\n",
       "      <td>-79.2353</td>\n",
       "      <td>44.60</td>\n",
       "      <td>17.27</td>\n",
       "    </tr>\n",
       "    <tr>\n",
       "      <th>4</th>\n",
       "      <td>pahrump</td>\n",
       "      <td>1</td>\n",
       "      <td>1619791682</td>\n",
       "      <td>20</td>\n",
       "      <td>36.2083</td>\n",
       "      <td>-115.9839</td>\n",
       "      <td>68.00</td>\n",
       "      <td>5.75</td>\n",
       "    </tr>\n",
       "    <tr>\n",
       "      <th>5</th>\n",
       "      <td>yulara</td>\n",
       "      <td>53</td>\n",
       "      <td>1619791846</td>\n",
       "      <td>25</td>\n",
       "      <td>-25.2406</td>\n",
       "      <td>130.9889</td>\n",
       "      <td>64.40</td>\n",
       "      <td>6.91</td>\n",
       "    </tr>\n",
       "    <tr>\n",
       "      <th>6</th>\n",
       "      <td>harper</td>\n",
       "      <td>100</td>\n",
       "      <td>1619791846</td>\n",
       "      <td>68</td>\n",
       "      <td>4.3750</td>\n",
       "      <td>-7.7169</td>\n",
       "      <td>84.99</td>\n",
       "      <td>6.04</td>\n",
       "    </tr>\n",
       "    <tr>\n",
       "      <th>7</th>\n",
       "      <td>ushuaia</td>\n",
       "      <td>75</td>\n",
       "      <td>1619791540</td>\n",
       "      <td>87</td>\n",
       "      <td>-54.8000</td>\n",
       "      <td>-68.3000</td>\n",
       "      <td>39.20</td>\n",
       "      <td>3.09</td>\n",
       "    </tr>\n",
       "    <tr>\n",
       "      <th>8</th>\n",
       "      <td>saskylakh</td>\n",
       "      <td>100</td>\n",
       "      <td>1619791587</td>\n",
       "      <td>88</td>\n",
       "      <td>71.9167</td>\n",
       "      <td>114.0833</td>\n",
       "      <td>33.51</td>\n",
       "      <td>9.48</td>\n",
       "    </tr>\n",
       "    <tr>\n",
       "      <th>9</th>\n",
       "      <td>cancun</td>\n",
       "      <td>75</td>\n",
       "      <td>1619791638</td>\n",
       "      <td>62</td>\n",
       "      <td>21.1743</td>\n",
       "      <td>-86.8466</td>\n",
       "      <td>86.00</td>\n",
       "      <td>13.80</td>\n",
       "    </tr>\n",
       "  </tbody>\n",
       "</table>\n",
       "</div>"
      ],
      "text/plain": [
       "               City  Cloudiness        Date  Humidity      Lat       Lng  \\\n",
       "0        evansville           1  1619791674        52  37.9748  -87.5558   \n",
       "1  pontes e lacerda          75  1619791845        70  -4.8333  -43.3667   \n",
       "2            dikson          81  1619791635        94  73.5069   80.5464   \n",
       "3         jamestown          90  1619791257        87  42.0970  -79.2353   \n",
       "4           pahrump           1  1619791682        20  36.2083 -115.9839   \n",
       "5            yulara          53  1619791846        25 -25.2406  130.9889   \n",
       "6            harper         100  1619791846        68   4.3750   -7.7169   \n",
       "7           ushuaia          75  1619791540        87 -54.8000  -68.3000   \n",
       "8         saskylakh         100  1619791587        88  71.9167  114.0833   \n",
       "9            cancun          75  1619791638        62  21.1743  -86.8466   \n",
       "\n",
       "   Max Temp  Wind Speed  \n",
       "0     66.00        5.75  \n",
       "1     86.00        6.91  \n",
       "2     13.46       10.11  \n",
       "3     44.60       17.27  \n",
       "4     68.00        5.75  \n",
       "5     64.40        6.91  \n",
       "6     84.99        6.04  \n",
       "7     39.20        3.09  \n",
       "8     33.51        9.48  \n",
       "9     86.00       13.80  "
      ]
     },
     "execution_count": 6,
     "metadata": {},
     "output_type": "execute_result"
    }
   ],
   "source": [
    "### Convert Raw Data to DataFrame\n",
    "weather_dict = {\n",
    "    \"City\":cities1,\n",
    "    \"Cloudiness\":cloudiness1,\n",
    "    \"Date\":date1,\n",
    "    \"Humidity\":humidity1,\n",
    "    \"Lat\":lat1,\n",
    "    \"Lng\":lng1,\n",
    "    \"Max Temp\":max_temp1,\n",
    "    \"Wind Speed\":wind_speed1}\n",
    "\n",
    "weather_df=pd.DataFrame(weather_dict)\n",
    "\n",
    "#Export the city data into a .csv.\n",
    "weather_df.to_csv(\"City_Weather_Data.csv\", index=False, header=True)\n",
    "\n",
    "#Display the DataFrame\n",
    "weather_df.head(10)"
   ]
  },
  {
   "cell_type": "markdown",
   "metadata": {},
   "source": [
    "## Inspect the data and remove the cities where the humidity > 100%.\n",
    "----\n",
    "Skip this step if there are no cities that have humidity > 100%. "
   ]
  },
  {
   "cell_type": "code",
   "execution_count": 7,
   "metadata": {},
   "outputs": [
    {
     "data": {
      "text/html": [
       "<div>\n",
       "<style scoped>\n",
       "    .dataframe tbody tr th:only-of-type {\n",
       "        vertical-align: middle;\n",
       "    }\n",
       "\n",
       "    .dataframe tbody tr th {\n",
       "        vertical-align: top;\n",
       "    }\n",
       "\n",
       "    .dataframe thead th {\n",
       "        text-align: right;\n",
       "    }\n",
       "</style>\n",
       "<table border=\"1\" class=\"dataframe\">\n",
       "  <thead>\n",
       "    <tr style=\"text-align: right;\">\n",
       "      <th></th>\n",
       "      <th>Lat</th>\n",
       "      <th>Lng</th>\n",
       "      <th>Max Temp</th>\n",
       "      <th>Humidity</th>\n",
       "      <th>Cloudiness</th>\n",
       "      <th>Wind Speed</th>\n",
       "      <th>Date</th>\n",
       "    </tr>\n",
       "  </thead>\n",
       "  <tbody>\n",
       "    <tr>\n",
       "      <th>count</th>\n",
       "      <td>548.000000</td>\n",
       "      <td>548.000000</td>\n",
       "      <td>548.000000</td>\n",
       "      <td>548.000000</td>\n",
       "      <td>548.000000</td>\n",
       "      <td>548.000000</td>\n",
       "      <td>5.480000e+02</td>\n",
       "    </tr>\n",
       "    <tr>\n",
       "      <th>mean</th>\n",
       "      <td>22.742960</td>\n",
       "      <td>22.958811</td>\n",
       "      <td>63.565255</td>\n",
       "      <td>64.102190</td>\n",
       "      <td>54.027372</td>\n",
       "      <td>8.138066</td>\n",
       "      <td>1.619792e+09</td>\n",
       "    </tr>\n",
       "    <tr>\n",
       "      <th>std</th>\n",
       "      <td>31.896403</td>\n",
       "      <td>86.584619</td>\n",
       "      <td>20.709475</td>\n",
       "      <td>23.742998</td>\n",
       "      <td>38.979219</td>\n",
       "      <td>5.440664</td>\n",
       "      <td>1.852791e+02</td>\n",
       "    </tr>\n",
       "    <tr>\n",
       "      <th>min</th>\n",
       "      <td>-54.800000</td>\n",
       "      <td>-179.166700</td>\n",
       "      <td>-1.440000</td>\n",
       "      <td>2.000000</td>\n",
       "      <td>0.000000</td>\n",
       "      <td>0.600000</td>\n",
       "      <td>1.619791e+09</td>\n",
       "    </tr>\n",
       "    <tr>\n",
       "      <th>Q25</th>\n",
       "      <td>-3.338525</td>\n",
       "      <td>-49.753825</td>\n",
       "      <td>50.000000</td>\n",
       "      <td>50.750000</td>\n",
       "      <td>17.000000</td>\n",
       "      <td>4.290000</td>\n",
       "      <td>1.619792e+09</td>\n",
       "    </tr>\n",
       "    <tr>\n",
       "      <th>Q50</th>\n",
       "      <td>29.416400</td>\n",
       "      <td>22.431350</td>\n",
       "      <td>65.335000</td>\n",
       "      <td>67.500000</td>\n",
       "      <td>65.500000</td>\n",
       "      <td>6.910000</td>\n",
       "      <td>1.619792e+09</td>\n",
       "    </tr>\n",
       "    <tr>\n",
       "      <th>Q75</th>\n",
       "      <td>48.037450</td>\n",
       "      <td>98.693100</td>\n",
       "      <td>78.800000</td>\n",
       "      <td>82.000000</td>\n",
       "      <td>91.250000</td>\n",
       "      <td>10.587500</td>\n",
       "      <td>1.619792e+09</td>\n",
       "    </tr>\n",
       "    <tr>\n",
       "      <th>max</th>\n",
       "      <td>78.218600</td>\n",
       "      <td>179.316700</td>\n",
       "      <td>109.130000</td>\n",
       "      <td>100.000000</td>\n",
       "      <td>100.000000</td>\n",
       "      <td>34.520000</td>\n",
       "      <td>1.619792e+09</td>\n",
       "    </tr>\n",
       "  </tbody>\n",
       "</table>\n",
       "</div>"
      ],
      "text/plain": [
       "              Lat         Lng    Max Temp    Humidity  Cloudiness  Wind Speed  \\\n",
       "count  548.000000  548.000000  548.000000  548.000000  548.000000  548.000000   \n",
       "mean    22.742960   22.958811   63.565255   64.102190   54.027372    8.138066   \n",
       "std     31.896403   86.584619   20.709475   23.742998   38.979219    5.440664   \n",
       "min    -54.800000 -179.166700   -1.440000    2.000000    0.000000    0.600000   \n",
       "Q25     -3.338525  -49.753825   50.000000   50.750000   17.000000    4.290000   \n",
       "Q50     29.416400   22.431350   65.335000   67.500000   65.500000    6.910000   \n",
       "Q75     48.037450   98.693100   78.800000   82.000000   91.250000   10.587500   \n",
       "max     78.218600  179.316700  109.130000  100.000000  100.000000   34.520000   \n",
       "\n",
       "               Date  \n",
       "count  5.480000e+02  \n",
       "mean   1.619792e+09  \n",
       "std    1.852791e+02  \n",
       "min    1.619791e+09  \n",
       "Q25    1.619792e+09  \n",
       "Q50    1.619792e+09  \n",
       "Q75    1.619792e+09  \n",
       "max    1.619792e+09  "
      ]
     },
     "execution_count": 7,
     "metadata": {},
     "output_type": "execute_result"
    }
   ],
   "source": [
    "def Q25(x):\n",
    "    return x.quantile(0.25)\n",
    "def Q50(y):\n",
    "    return y.quantile(0.50)\n",
    "def Q75(z):\n",
    "    return z.quantile(0.75)\n",
    "\n",
    "weather_df.agg({\"Lat\": [\"count\", \"mean\", \"std\",\"min\",Q25,Q50,Q75,\"max\"],\n",
    "               \"Lng\": [\"count\", \"mean\", \"std\",\"min\",Q25,Q50,Q75,\"max\"],\n",
    "                \"Max Temp\": [\"count\", \"mean\", \"std\",\"min\",Q25,Q50,Q75,\"max\"],           \n",
    "                \"Humidity\": [\"count\", \"mean\", \"std\",\"min\",Q25,Q50,Q75,\"max\"],\n",
    "                \"Cloudiness\": [\"count\", \"mean\", \"std\",\"min\",Q25,Q50,Q75,\"max\"],\n",
    "                \"Wind Speed\": [\"count\", \"mean\", \"std\",\"min\",Q25,Q50,Q75,\"max\"],\n",
    "                \"Date\": [\"count\", \"mean\", \"std\",\"min\",Q25,Q50,Q75,\"max\"]})"
   ]
  },
  {
   "cell_type": "code",
   "execution_count": 8,
   "metadata": {},
   "outputs": [
    {
     "data": {
      "text/html": [
       "<div>\n",
       "<style scoped>\n",
       "    .dataframe tbody tr th:only-of-type {\n",
       "        vertical-align: middle;\n",
       "    }\n",
       "\n",
       "    .dataframe tbody tr th {\n",
       "        vertical-align: top;\n",
       "    }\n",
       "\n",
       "    .dataframe thead th {\n",
       "        text-align: right;\n",
       "    }\n",
       "</style>\n",
       "<table border=\"1\" class=\"dataframe\">\n",
       "  <thead>\n",
       "    <tr style=\"text-align: right;\">\n",
       "      <th></th>\n",
       "      <th>City</th>\n",
       "      <th>Cloudiness</th>\n",
       "      <th>Date</th>\n",
       "      <th>Humidity</th>\n",
       "      <th>Lat</th>\n",
       "      <th>Lng</th>\n",
       "      <th>Max Temp</th>\n",
       "      <th>Wind Speed</th>\n",
       "    </tr>\n",
       "  </thead>\n",
       "  <tbody>\n",
       "  </tbody>\n",
       "</table>\n",
       "</div>"
      ],
      "text/plain": [
       "Empty DataFrame\n",
       "Columns: [City, Cloudiness, Date, Humidity, Lat, Lng, Max Temp, Wind Speed]\n",
       "Index: []"
      ]
     },
     "execution_count": 8,
     "metadata": {},
     "output_type": "execute_result"
    }
   ],
   "source": [
    "#  Get the indices of cities that have humidity over 100%.\n",
    "\n",
    "humidity_df=weather_df[(weather_df['Humidity']>100)]\n",
    "humidity_df.head()\n"
   ]
  },
  {
   "cell_type": "code",
   "execution_count": 9,
   "metadata": {},
   "outputs": [],
   "source": [
    "# Make a new DataFrame equal to the city data to drop all humidity outliers by index.\n",
    "# Passing \"inplace=False\" will make a copy of the city_data DataFrame, which we call \"clean_city_data\".\n"
   ]
  },
  {
   "cell_type": "code",
   "execution_count": null,
   "metadata": {},
   "outputs": [],
   "source": [
    "\n"
   ]
  },
  {
   "cell_type": "markdown",
   "metadata": {},
   "source": [
    "## Plotting the Data\n",
    "* Use proper labeling of the plots using plot titles (including date of analysis) and axes labels.\n",
    "* Save the plotted figures as .pngs."
   ]
  },
  {
   "cell_type": "markdown",
   "metadata": {},
   "source": [
    "## Latitude vs. Temperature Plot"
   ]
  },
  {
   "cell_type": "code",
   "execution_count": 10,
   "metadata": {
    "scrolled": true
   },
   "outputs": [
    {
     "data": {
      "image/png": "[encoded data removed]",
      "text/plain": [
       "<Figure size 432x288 with 1 Axes>"
      ]
     },
     "metadata": {
      "needs_background": "light"
     },
     "output_type": "display_data"
    }
   ],
   "source": [
    "# Build a scatter plot for each data type\n",
    "plt.scatter(weather_df[\"Lat\"], weather_df[\"Max Temp\"], marker=\"o\")\n",
    "\n",
    "# Incorporate the other graph properties\n",
    "plt.title(f'City Latitude vs. Max Temperature {time.strftime(\"%m/%d/%Y\")}')\n",
    "plt.ylabel(\"Temperature (F)\")\n",
    "plt.xlabel(\"Latitude\")\n",
    "plt.grid(True)\n",
    "\n",
    "# Save the figure\n",
    "plt.savefig(\"../output_data/City Latitude vs. Max Temperature.png\")\n",
    "\n",
    "# Show plot\n",
    "plt.show()"
   ]
  },
  {
   "cell_type": "markdown",
   "metadata": {},
   "source": [
    "## Latitude vs. Humidity Plot"
   ]
  },
  {
   "cell_type": "code",
   "execution_count": 11,
   "metadata": {},
   "outputs": [
    {
     "data": {
      "image/png": "[encoded data removed]",
      "text/plain": [
       "<Figure size 432x288 with 1 Axes>"
      ]
     },
     "metadata": {
      "needs_background": "light"
     },
     "output_type": "display_data"
    }
   ],
   "source": [
    "# Build a scatter plot for each data type\n",
    "plt.scatter(weather_df[\"Lat\"],weather_df[\"Humidity\"], marker=\"o\")\n",
    "\n",
    "# Incorporate the other graph properties\n",
    "plt.title(f'City Latitude vs. Humidity {time.strftime(\"%m/%d/%Y\")}')\n",
    "plt.ylabel(\"Humidity\")\n",
    "plt.xlabel(\"Latitude\")\n",
    "plt.grid(True)\n",
    "\n",
    "# Save the figure\n",
    "plt.savefig(\"../output_data/City Latitude vs. Humidity.png\")\n",
    "\n",
    "# Show plot\n",
    "plt.show()"
   ]
  },
  {
   "cell_type": "markdown",
   "metadata": {},
   "source": [
    "## Latitude vs. Cloudiness Plot"
   ]
  },
  {
   "cell_type": "code",
   "execution_count": 12,
   "metadata": {},
   "outputs": [
    {
     "data": {
      "image/png": "[encoded data removed]",
      "text/plain": [
       "<Figure size 432x288 with 1 Axes>"
      ]
     },
     "metadata": {
      "needs_background": "light"
     },
     "output_type": "display_data"
    }
   ],
   "source": [
    "# Build a scatter plot for each data type\n",
    "plt.scatter(weather_df[\"Lat\"], weather_df[\"Cloudiness\"], marker=\"o\")\n",
    "\n",
    "# Incorporate the other graph properties\n",
    "plt.title(f'City Latitude vs. Max Cloudiness {time.strftime(\"%m/%d/%Y\")}')\n",
    "plt.ylabel(\"Cloudiness\")\n",
    "plt.xlabel(\"Latitude\")\n",
    "plt.grid(True)\n",
    "\n",
    "# Save the figure\n",
    "plt.savefig(\"../output_data/City Latitude vs. Cloudiness.png\")\n",
    "\n",
    "# Show plot\n",
    "plt.show()"
   ]
  },
  {
   "cell_type": "markdown",
   "metadata": {},
   "source": [
    "## Latitude vs. Wind Speed Plot"
   ]
  },
  {
   "cell_type": "code",
   "execution_count": 13,
   "metadata": {},
   "outputs": [
    {
     "data": {
      "image/png": "[encoded data removed]",
      "text/plain": [
       "<Figure size 432x288 with 1 Axes>"
      ]
     },
     "metadata": {
      "needs_background": "light"
     },
     "output_type": "display_data"
    }
   ],
   "source": [
    "# Build a scatter plot for each data type\n",
    "plt.scatter(weather_df[\"Lat\"],weather_df[\"Wind Speed\"], marker=\"o\")\n",
    "\n",
    "# Incorporate the other graph properties\n",
    "plt.title(f'City Latitude vs. Wind Speed {time.strftime(\"%m/%d/%Y\")}')\n",
    "plt.ylabel(\"Wind Speed\")\n",
    "plt.xlabel(\"Latitude\")\n",
    "plt.grid(True)\n",
    "\n",
    "# Save the figure\n",
    "plt.savefig(\"../output_data/City Latitude vs. Wind Speed.png\")\n",
    "\n",
    "# Show plot\n",
    "plt.show()"
   ]
  },
  {
   "cell_type": "markdown",
   "metadata": {},
   "source": [
    "## Linear Regression"
   ]
  },
  {
   "cell_type": "code",
   "execution_count": 16,
   "metadata": {},
   "outputs": [],
   "source": [
    "# Create Northern and Southern Hemisphere data frame.\n",
    "northern_df = weather_df.loc[pd.to_numeric(weather_df[\"Lat\"]).astype(float) > 0, :]\n",
    "southern_df = weather_df.loc[pd.to_numeric(weather_df[\"Lat\"]).astype(float) < 0, :]"
   ]
  },
  {
   "cell_type": "markdown",
   "metadata": {},
   "source": [
    "####  Northern Hemisphere - Max Temp vs. Latitude Linear Regression"
   ]
  },
  {
   "cell_type": "code",
   "execution_count": 27,
   "metadata": {},
   "outputs": [
    {
     "name": "stdout",
     "output_type": "stream",
     "text": [
      "Regression line equation is: y = -1.01x + 100.46\n",
      "The r-value is: -0.8646178014320952\n"
     ]
    },
    {
     "data": {
      "image/png": "[encoded data removed]",
      "text/plain": [
       "<Figure size 432x288 with 1 Axes>"
      ]
     },
     "metadata": {
      "needs_background": "light"
     },
     "output_type": "display_data"
    }
   ],
   "source": [
    "x_values = pd.to_numeric(northern_df['Lat']).astype(float)\n",
    "y_values = pd.to_numeric(northern_df['Max Temp']).astype(float)\n",
    "(slope, intercept, rvalue, pvalue, stderr) = linregress(x_values, y_values)\n",
    "regress_values = x_values * slope + intercept\n",
    "line_eq = \"y = \" + str(round(slope,2)) + \"x + \" + str(round(intercept,2))\n",
    "print(f\"Regression line equation is: {line_eq}\")\n",
    "plt.scatter(x_values,y_values)\n",
    "plt.plot(x_values,regress_values,\"r-\")\n",
    "plt.annotate(line_eq,(6,10),fontsize=15,color=\"red\")\n",
    "plt.xlabel('Latitude')\n",
    "plt.ylabel('Max Temperature (F)')\n",
    "plt.title('Northern Hemisphere - Max Temp vs. Latitude Linear Regression')\n",
    "print(f\"The r-value is: {rvalue}\")\n",
    "\n",
    "# Save the figure\n",
    "plt.savefig(\"../output_data/Northern Hemisphere - Max Temp vs. Latitude Linear Regression.png\")\n",
    "\n",
    "plt.show()"
   ]
  },
  {
   "cell_type": "markdown",
   "metadata": {},
   "source": [
    "####  Southern Hemisphere - Max Temp vs. Latitude Linear Regression"
   ]
  },
  {
   "cell_type": "code",
   "execution_count": 28,
   "metadata": {},
   "outputs": [
    {
     "name": "stdout",
     "output_type": "stream",
     "text": [
      "Regression line equation is: y = 0.64x + 83.29\n",
      "The r-value is: 0.7882619222560044\n"
     ]
    },
    {
     "data": {
      "image/png": "[encoded data removed]",
      "text/plain": [
       "<Figure size 432x288 with 1 Axes>"
      ]
     },
     "metadata": {
      "needs_background": "light"
     },
     "output_type": "display_data"
    }
   ],
   "source": [
    "x_values = pd.to_numeric(southern_df['Lat']).astype(float)\n",
    "y_values = pd.to_numeric(southern_df['Max Temp']).astype(float)\n",
    "(slope, intercept, rvalue, pvalue, stderr) = linregress(x_values, y_values)\n",
    "regress_values = x_values * slope + intercept\n",
    "line_eq = \"y = \" + str(round(slope,2)) + \"x + \" + str(round(intercept,2))\n",
    "print(f\"Regression line equation is: {line_eq}\")\n",
    "plt.scatter(x_values,y_values)\n",
    "plt.plot(x_values,regress_values,\"r-\")\n",
    "plt.annotate(line_eq,(6,10),fontsize=15,color=\"red\")\n",
    "plt.xlabel('Latitude')\n",
    "plt.ylabel('Max Temperature (F)')\n",
    "plt.title('Southern Hemisphere - Max Temp vs. Latitude Linear Regression')\n",
    "print(f\"The r-value is: {rvalue}\")\n",
    "plt.savefig(\"../output_data/Southern Hemisphere - Max Temp vs. Latitude Linear Regression.png\")\n",
    "\n",
    "plt.show()"
   ]
  },
  {
   "cell_type": "markdown",
   "metadata": {},
   "source": [
    "####  Northern Hemisphere - Humidity (%) vs. Latitude Linear Regression"
   ]
  },
  {
   "cell_type": "code",
   "execution_count": 30,
   "metadata": {},
   "outputs": [
    {
     "name": "stdout",
     "output_type": "stream",
     "text": [
      "The r-value is: 0.21406934355884136\n"
     ]
    },
    {
     "data": {
      "image/png": "[encoded data removed]",
      "text/plain": [
       "<Figure size 432x288 with 1 Axes>"
      ]
     },
     "metadata": {
      "needs_background": "light"
     },
     "output_type": "display_data"
    }
   ],
   "source": [
    "x_values = pd.to_numeric(northern_df['Lat']).astype(float)\n",
    "y_values = pd.to_numeric(northern_df['Humidity']).astype(float)\n",
    "(slope, intercept, rvalue, pvalue, stderr) = linregress(x_values, y_values)\n",
    "regress_values = x_values * slope + intercept\n",
    "line_eq = \"y = \" + str(round(slope,2)) + \"x + \" + str(round(intercept,2))\n",
    "plt.scatter(x_values,y_values)\n",
    "plt.plot(x_values,regress_values,\"r-\")\n",
    "plt.annotate(line_eq,(6,10),fontsize=15,color=\"red\")\n",
    "plt.xlabel('Lat')\n",
    "plt.ylabel('Humidity (%)')\n",
    "plt.title('Northern Hemisphere - Humidity (%) vs. Latitude Linear Regression')\n",
    "print(f\"The r-value is: {rvalue}\")\n",
    "\n",
    "plt.savefig(\"../output_data/Northern Hemisphere - Humidity (%) vs. Latitude Linear Regression.png\")\n",
    "\n",
    "plt.show()"
   ]
  },
  {
   "cell_type": "markdown",
   "metadata": {},
   "source": [
    "####  Southern Hemisphere - Humidity (%) vs. Latitude Linear Regression"
   ]
  },
  {
   "cell_type": "code",
   "execution_count": 31,
   "metadata": {},
   "outputs": [
    {
     "name": "stdout",
     "output_type": "stream",
     "text": [
      "Regression line equation is: y = 0.2x + 75.52\n",
      "The r-value is: 0.15461678915247193\n"
     ]
    },
    {
     "data": {
      "image/png": "[encoded data removed]",
      "text/plain": [
       "<Figure size 432x288 with 1 Axes>"
      ]
     },
     "metadata": {
      "needs_background": "light"
     },
     "output_type": "display_data"
    }
   ],
   "source": [
    "x_values = pd.to_numeric(southern_df['Lat']).astype(float)\n",
    "y_values = pd.to_numeric(southern_df['Humidity']).astype(float)\n",
    "(slope, intercept, rvalue, pvalue, stderr) = linregress(x_values, y_values)\n",
    "regress_values = x_values * slope + intercept\n",
    "line_eq = \"y = \" + str(round(slope,2)) + \"x + \" + str(round(intercept,2))\n",
    "print(f\"Regression line equation is: {line_eq}\")\n",
    "plt.scatter(x_values,y_values)\n",
    "plt.plot(x_values,regress_values,\"r-\")\n",
    "plt.annotate(line_eq,(6,10),fontsize=15,color=\"red\")\n",
    "plt.xlabel('Latitude')\n",
    "plt.ylabel('Humidity (%)')\n",
    "plt.title('Southern Hemisphere - Humidity (%) vs. Latitude Linear Regression')\n",
    "print(f\"The r-value is: {rvalue}\")\n",
    "\n",
    "plt.savefig(\"../output_data/Southern Hemisphere - Humidity (%) vs. Latitude Linear Regression.png\")\n",
    "\n",
    "plt.show()"
   ]
  },
  {
   "cell_type": "markdown",
   "metadata": {},
   "source": [
    "####  Northern Hemisphere - Cloudiness (%) vs. Latitude Linear Regression"
   ]
  },
  {
   "cell_type": "code",
   "execution_count": 32,
   "metadata": {},
   "outputs": [
    {
     "name": "stdout",
     "output_type": "stream",
     "text": [
      "Regression line equation is: y = 0.18x + 46.4\n",
      "The r-value is: 0.08822208344320555\n"
     ]
    },
    {
     "data": {
      "image/png": "[encoded data removed]",
      "text/plain": [
       "<Figure size 432x288 with 1 Axes>"
      ]
     },
     "metadata": {
      "needs_background": "light"
     },
     "output_type": "display_data"
    }
   ],
   "source": [
    "x_values = pd.to_numeric(northern_df['Lat']).astype(float)\n",
    "y_values = pd.to_numeric(northern_df['Cloudiness']).astype(float)\n",
    "(slope, intercept, rvalue, pvalue, stderr) = linregress(x_values, y_values)\n",
    "regress_values = x_values * slope + intercept\n",
    "line_eq = \"y = \" + str(round(slope,2)) + \"x + \" + str(round(intercept,2))\n",
    "print(f\"Regression line equation is: {line_eq}\")\n",
    "plt.scatter(x_values,y_values)\n",
    "plt.plot(x_values,regress_values,\"r-\")\n",
    "plt.annotate(line_eq,(6,10),fontsize=15,color=\"red\")\n",
    "plt.xlabel('Latitude')\n",
    "plt.ylabel('Cloudiness (%)')\n",
    "plt.title('Northern Hemisphere - Cloudiness (%) vs. Latitude Linear Regression')\n",
    "print(f\"The r-value is: {rvalue}\")\n",
    "\n",
    "plt.savefig(\"../output_data/Northern Hemisphere - Cloudiness (%) vs. Latitude Linear Regression.png\")\n",
    "\n",
    "\n",
    "plt.show()"
   ]
  },
  {
   "cell_type": "markdown",
   "metadata": {},
   "source": [
    "####  Southern Hemisphere - Cloudiness (%) vs. Latitude Linear Regression"
   ]
  },
  {
   "cell_type": "code",
   "execution_count": 33,
   "metadata": {},
   "outputs": [
    {
     "name": "stdout",
     "output_type": "stream",
     "text": [
      "Regression line equation is: y = 0.85x + 71.71\n",
      "The r-value is: 0.2978306423186855\n"
     ]
    },
    {
     "data": {
      "image/png": "[encoded data removed]",
      "text/plain": [
       "<Figure size 432x288 with 1 Axes>"
      ]
     },
     "metadata": {
      "needs_background": "light"
     },
     "output_type": "display_data"
    }
   ],
   "source": [
    "x_values = pd.to_numeric(southern_df['Lat']).astype(float)\n",
    "y_values = pd.to_numeric(southern_df['Cloudiness']).astype(float)\n",
    "(slope, intercept, rvalue, pvalue, stderr) = linregress(x_values, y_values)\n",
    "regress_values = x_values * slope + intercept\n",
    "line_eq = \"y = \" + str(round(slope,2)) + \"x + \" + str(round(intercept,2))\n",
    "print(f\"Regression line equation is: {line_eq}\")\n",
    "plt.scatter(x_values,y_values)\n",
    "plt.plot(x_values,regress_values,\"r-\")\n",
    "plt.annotate(line_eq,(6,10),fontsize=15,color=\"red\")\n",
    "plt.xlabel('Latitude')\n",
    "plt.ylabel('Cloudiness (%)')\n",
    "plt.title('Southern Hemisphere - Cloudiness (%) vs. Latitude Linear Regression')\n",
    "print(f\"The r-value is: {rvalue}\")\n",
    "\n",
    "plt.savefig(\"../output_data/Southern Hemisphere - Cloudiness (%) vs. Latitude Linear Regression.png\")\n",
    "\n",
    "\n",
    "plt.show()"
   ]
  },
  {
   "cell_type": "markdown",
   "metadata": {},
   "source": [
    "####  Northern Hemisphere - Wind Speed (mph) vs. Latitude Linear Regression"
   ]
  },
  {
   "cell_type": "code",
   "execution_count": 34,
   "metadata": {},
   "outputs": [
    {
     "name": "stdout",
     "output_type": "stream",
     "text": [
      "The r-value is: -0.27207334567733227\n"
     ]
    },
    {
     "data": {
      "image/png": "[encoded data removed]",
      "text/plain": [
       "<Figure size 432x288 with 1 Axes>"
      ]
     },
     "metadata": {
      "needs_background": "light"
     },
     "output_type": "display_data"
    }
   ],
   "source": [
    "x_values = pd.to_numeric(southern_df['Lat']).astype(float)\n",
    "y_values = pd.to_numeric(southern_df['Wind Speed']).astype(float)\n",
    "(slope, intercept, rvalue, pvalue, stderr) = linregress(x_values, y_values)\n",
    "regress_values = x_values * slope + intercept\n",
    "line_eq = \"y = \" + str(round(slope,2)) + \"x + \" + str(round(intercept,2))\n",
    "plt.scatter(x_values,y_values)\n",
    "plt.plot(x_values,regress_values,\"r-\")\n",
    "plt.annotate(line_eq,(6,10),fontsize=15,color=\"red\")\n",
    "plt.xlabel('Latitude')\n",
    "plt.ylabel('Wind Speed (mph)')\n",
    "plt.title('Southern Hemisphere - Wind Speed (mph) vs. Latitude Linear Regression')\n",
    "print(f\"The r-value is: {rvalue}\")\n",
    "\n",
    "plt.savefig(\"../output_data/Northern Hemisphere - Wind Speed (mph) vs. Latitude Linear Regression.png\")\n",
    "\n",
    "plt.show()"
   ]
  },
  {
   "cell_type": "markdown",
   "metadata": {},
   "source": [
    "####  Southern Hemisphere - Wind Speed (mph) vs. Latitude Linear Regression"
   ]
  },
  {
   "cell_type": "code",
   "execution_count": 36,
   "metadata": {},
   "outputs": [
    {
     "name": "stdout",
     "output_type": "stream",
     "text": [
      "The r-value is: -0.27207334567733227\n"
     ]
    },
    {
     "data": {
      "image/png": "[encoded data removed]",
      "text/plain": [
       "<Figure size 432x288 with 1 Axes>"
      ]
     },
     "metadata": {
      "needs_background": "light"
     },
     "output_type": "display_data"
    }
   ],
   "source": [
    "x_values = pd.to_numeric(southern_df['Lat']).astype(float)\n",
    "y_values = pd.to_numeric(southern_df['Wind Speed']).astype(float)\n",
    "(slope, intercept, rvalue, pvalue, stderr) = linregress(x_values, y_values)\n",
    "regress_values = x_values * slope + intercept\n",
    "line_eq = \"y = \" + str(round(slope,2)) + \"x + \" + str(round(intercept,2))\n",
    "plt.scatter(x_values,y_values)\n",
    "plt.plot(x_values,regress_values,\"r-\")\n",
    "plt.annotate(line_eq,(6,10),fontsize=15,color=\"red\")\n",
    "plt.xlabel('Latitude')\n",
    "plt.ylabel('Wind Speed (mph)')\n",
    "plt.title('Southern Hemisphere - Wind Speed (mph) vs. Latitude Linear Regression')\n",
    "print(f\"The r-value is: {rvalue}\")\n",
    "\n",
    "plt.savefig(\"../output_data/Southern Hemisphere - Wind Speed (mph) vs. Latitude Linear Regression.png\")\n",
    "\n",
    "plt.show()"
   ]
  },
  {
   "cell_type": "code",
   "execution_count": null,
   "metadata": {},
   "outputs": [],
   "source": []
  }
 ],
 "metadata": {
  "anaconda-cloud": {},
  "kernel_info": {
   "name": "python3"
  },
  "kernelspec": {
   "display_name": "Python 3",
   "language": "python",
   "name": "python3"
  },
  "language_info": {
   "codemirror_mode": {
    "name": "ipython",
    "version": 3
   },
   "file_extension": ".py",
   "mimetype": "text/x-python",
   "name": "python",
   "nbconvert_exporter": "python",
   "pygments_lexer": "ipython3",
   "version": "3.8.5"
  },
  "latex_envs": {
   "LaTeX_envs_menu_present": true,
   "autoclose": false,
   "autocomplete": true,
   "bibliofile": "biblio.bib",
   "cite_by": "apalike",
   "current_citInitial": 1,
   "eqLabelWithNumbers": true,
   "eqNumInitial": 1,
   "hotkeys": {
    "equation": "Ctrl-E",
    "itemize": "Ctrl-I"
   },
   "labels_anchors": false,
   "latex_user_defs": false,
   "report_style_numbering": false,
   "user_envs_cfg": false
  },
  "nteract": {
   "version": "0.12.3"
  }
 },
 "nbformat": 4,
 "nbformat_minor": 2
}
