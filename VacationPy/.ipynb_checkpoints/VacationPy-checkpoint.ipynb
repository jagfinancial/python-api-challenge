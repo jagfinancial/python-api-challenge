{
 "cells": [
  {
   "cell_type": "markdown",
   "metadata": {},
   "source": [
    "# VacationPy\n",
    "----\n",
    "\n",
    "#### Note\n",
    "* Keep an eye on your API usage. Use https://developers.google.com/maps/reporting/gmp-reporting as reference for how to monitor your usage and billing.\n",
    "\n",
    "* Instructions have been included for each segment. You do not have to follow them exactly, but they are included to help you think through the steps."
   ]
  },
  {
   "cell_type": "code",
   "execution_count": 19,
   "metadata": {},
   "outputs": [],
   "source": [
    "# Dependencies and Setup\n",
    "import matplotlib.pyplot as plt\n",
    "import pandas as pd\n",
    "import numpy as np\n",
    "import requests\n",
    "import gmaps\n",
    "import os\n",
    "import json\n",
    "\n",
    "# Import API key\n",
    "from api_keys import g_key"
   ]
  },
  {
   "cell_type": "markdown",
   "metadata": {},
   "source": [
    "### Store Part I results into DataFrame\n",
    "* Load the csv exported in Part I to a DataFrame"
   ]
  },
  {
   "cell_type": "code",
   "execution_count": 23,
   "metadata": {},
   "outputs": [
    {
     "data": {
      "text/html": [
       "<div>\n",
       "<style scoped>\n",
       "    .dataframe tbody tr th:only-of-type {\n",
       "        vertical-align: middle;\n",
       "    }\n",
       "\n",
       "    .dataframe tbody tr th {\n",
       "        vertical-align: top;\n",
       "    }\n",
       "\n",
       "    .dataframe thead th {\n",
       "        text-align: right;\n",
       "    }\n",
       "</style>\n",
       "<table border=\"1\" class=\"dataframe\">\n",
       "  <thead>\n",
       "    <tr style=\"text-align: right;\">\n",
       "      <th></th>\n",
       "      <th>City</th>\n",
       "      <th>Cloudiness</th>\n",
       "      <th>Date</th>\n",
       "      <th>Humidity</th>\n",
       "      <th>Lat</th>\n",
       "      <th>Lng</th>\n",
       "      <th>Max Temp</th>\n",
       "      <th>Wind Speed</th>\n",
       "    </tr>\n",
       "  </thead>\n",
       "  <tbody>\n",
       "    <tr>\n",
       "      <th>0</th>\n",
       "      <td>evansville</td>\n",
       "      <td>1</td>\n",
       "      <td>1619791674</td>\n",
       "      <td>52</td>\n",
       "      <td>37.9748</td>\n",
       "      <td>-87.5558</td>\n",
       "      <td>66.00</td>\n",
       "      <td>5.75</td>\n",
       "    </tr>\n",
       "    <tr>\n",
       "      <th>1</th>\n",
       "      <td>pontes e lacerda</td>\n",
       "      <td>75</td>\n",
       "      <td>1619791845</td>\n",
       "      <td>70</td>\n",
       "      <td>-4.8333</td>\n",
       "      <td>-43.3667</td>\n",
       "      <td>86.00</td>\n",
       "      <td>6.91</td>\n",
       "    </tr>\n",
       "    <tr>\n",
       "      <th>2</th>\n",
       "      <td>dikson</td>\n",
       "      <td>81</td>\n",
       "      <td>1619791635</td>\n",
       "      <td>94</td>\n",
       "      <td>73.5069</td>\n",
       "      <td>80.5464</td>\n",
       "      <td>13.46</td>\n",
       "      <td>10.11</td>\n",
       "    </tr>\n",
       "    <tr>\n",
       "      <th>3</th>\n",
       "      <td>jamestown</td>\n",
       "      <td>90</td>\n",
       "      <td>1619791257</td>\n",
       "      <td>87</td>\n",
       "      <td>42.0970</td>\n",
       "      <td>-79.2353</td>\n",
       "      <td>44.60</td>\n",
       "      <td>17.27</td>\n",
       "    </tr>\n",
       "    <tr>\n",
       "      <th>4</th>\n",
       "      <td>pahrump</td>\n",
       "      <td>1</td>\n",
       "      <td>1619791682</td>\n",
       "      <td>20</td>\n",
       "      <td>36.2083</td>\n",
       "      <td>-115.9839</td>\n",
       "      <td>68.00</td>\n",
       "      <td>5.75</td>\n",
       "    </tr>\n",
       "    <tr>\n",
       "      <th>5</th>\n",
       "      <td>yulara</td>\n",
       "      <td>53</td>\n",
       "      <td>1619791846</td>\n",
       "      <td>25</td>\n",
       "      <td>-25.2406</td>\n",
       "      <td>130.9889</td>\n",
       "      <td>64.40</td>\n",
       "      <td>6.91</td>\n",
       "    </tr>\n",
       "    <tr>\n",
       "      <th>6</th>\n",
       "      <td>harper</td>\n",
       "      <td>100</td>\n",
       "      <td>1619791846</td>\n",
       "      <td>68</td>\n",
       "      <td>4.3750</td>\n",
       "      <td>-7.7169</td>\n",
       "      <td>84.99</td>\n",
       "      <td>6.04</td>\n",
       "    </tr>\n",
       "    <tr>\n",
       "      <th>7</th>\n",
       "      <td>ushuaia</td>\n",
       "      <td>75</td>\n",
       "      <td>1619791540</td>\n",
       "      <td>87</td>\n",
       "      <td>-54.8000</td>\n",
       "      <td>-68.3000</td>\n",
       "      <td>39.20</td>\n",
       "      <td>3.09</td>\n",
       "    </tr>\n",
       "    <tr>\n",
       "      <th>8</th>\n",
       "      <td>saskylakh</td>\n",
       "      <td>100</td>\n",
       "      <td>1619791587</td>\n",
       "      <td>88</td>\n",
       "      <td>71.9167</td>\n",
       "      <td>114.0833</td>\n",
       "      <td>33.51</td>\n",
       "      <td>9.48</td>\n",
       "    </tr>\n",
       "    <tr>\n",
       "      <th>9</th>\n",
       "      <td>cancun</td>\n",
       "      <td>75</td>\n",
       "      <td>1619791638</td>\n",
       "      <td>62</td>\n",
       "      <td>21.1743</td>\n",
       "      <td>-86.8466</td>\n",
       "      <td>86.00</td>\n",
       "      <td>13.80</td>\n",
       "    </tr>\n",
       "  </tbody>\n",
       "</table>\n",
       "</div>"
      ],
      "text/plain": [
       "               City  Cloudiness        Date  Humidity      Lat       Lng  \\\n",
       "0        evansville           1  1619791674        52  37.9748  -87.5558   \n",
       "1  pontes e lacerda          75  1619791845        70  -4.8333  -43.3667   \n",
       "2            dikson          81  1619791635        94  73.5069   80.5464   \n",
       "3         jamestown          90  1619791257        87  42.0970  -79.2353   \n",
       "4           pahrump           1  1619791682        20  36.2083 -115.9839   \n",
       "5            yulara          53  1619791846        25 -25.2406  130.9889   \n",
       "6            harper         100  1619791846        68   4.3750   -7.7169   \n",
       "7           ushuaia          75  1619791540        87 -54.8000  -68.3000   \n",
       "8         saskylakh         100  1619791587        88  71.9167  114.0833   \n",
       "9            cancun          75  1619791638        62  21.1743  -86.8466   \n",
       "\n",
       "   Max Temp  Wind Speed  \n",
       "0     66.00        5.75  \n",
       "1     86.00        6.91  \n",
       "2     13.46       10.11  \n",
       "3     44.60       17.27  \n",
       "4     68.00        5.75  \n",
       "5     64.40        6.91  \n",
       "6     84.99        6.04  \n",
       "7     39.20        3.09  \n",
       "8     33.51        9.48  \n",
       "9     86.00       13.80  "
      ]
     },
     "execution_count": 23,
     "metadata": {},
     "output_type": "execute_result"
    }
   ],
   "source": [
    "# Load csv file\n",
    "csv_file=\"../WeatherPy/City_Weather_Data.csv\"\n",
    "\n",
    "#Read csv file\n",
    "weather_df=pd.read_csv(csv_file)\n",
    "weather_df.head(10)\n",
    " "
   ]
  },
  {
   "cell_type": "markdown",
   "metadata": {},
   "source": [
    "### Humidity Heatmap\n",
    "* Configure gmaps.\n",
    "* Use the Lat and Lng as locations and Humidity as the weight.\n",
    "* Add Heatmap layer to map."
   ]
  },
  {
   "cell_type": "code",
   "execution_count": 24,
   "metadata": {},
   "outputs": [],
   "source": [
    "# Configure gmaps\n",
    "gmaps.configure(api_key=g_key)\n",
    "\n",
    "# Locations\n",
    "locations = weather_df[[\"Lat\", \"Lng\"]]\n",
    "\n",
    "humidity =weather_df[\"Humidity\"].astype(float)"
   ]
  },
  {
   "cell_type": "code",
   "execution_count": 28,
   "metadata": {},
   "outputs": [
    {
     "data": {
      "application/vnd.jupyter.widget-view+json": {
       "model_id": "7259f443a25047f88cdd65cd113656af",
       "version_major": 2,
       "version_minor": 0
      },
      "text/plain": [
       "Figure(layout=FigureLayout(height='420px'))"
      ]
     },
     "metadata": {},
     "output_type": "display_data"
    }
   ],
   "source": [
    "# Plot Heatmap\n",
    "fig = gmaps.figure()\n",
    "\n",
    "# Create heat layer\n",
    "heat_layer = gmaps.heatmap_layer(locations, weights=humidity, \n",
    "                                 dissipating=False, max_intensity=100,\n",
    "                                 point_radius=2)\n",
    "\n",
    "# Add layer\n",
    "fig.add_layer(heat_layer)\n",
    "\n",
    "# Display figure\n",
    "fig"
   ]
  },
  {
   "cell_type": "markdown",
   "metadata": {},
   "source": [
    "### Create new DataFrame fitting weather criteria\n",
    "* Narrow down the cities to fit weather conditions.\n",
    "* Drop any rows will null values."
   ]
  },
  {
   "cell_type": "code",
   "execution_count": 34,
   "metadata": {},
   "outputs": [
    {
     "data": {
      "application/vnd.jupyter.widget-view+json": {
       "model_id": "7b1cdf5aa2c04eccbd74328d215adc57",
       "version_major": 2,
       "version_minor": 0
      },
      "text/plain": [
       "Figure(layout=FigureLayout(height='420px'))"
      ]
     },
     "metadata": {},
     "output_type": "display_data"
    }
   ],
   "source": [
    "# Filter vacation with zero cloudiness\n",
    "vacation_no_cloud = weather_df[weather_df[\"Cloudiness\"] == 0]\n",
    "# Filter vacation with max temp above 70 degrees F\n",
    "vacation_above_70_degrees = vacation_no_cloud[vacation_no_cloud[\"Max Temp\"] > 70]\n",
    "# Filter vacation with max temp below 80 degrees F\n",
    "vacation_below_80_degrees = vacation_above_70_degrees[vacation_above_70_degrees[\"Max Temp\"] < 80]\n",
    "# Filter vacation with wind speed below 10 mph\n",
    "vacation_slow_wind = vacation_below_80_degrees[vacation_below_80_degrees[\"Wind Speed\"] < 10]\n",
    "# Filter vacation with humidity below 60 %\n",
    "perfect_vacation = vacation_slow_wind[vacation_slow_wind[\"Humidity\"] < 60]\n",
    "# Set Index\n",
    "indexed_perfect_vacation = perfect_vacation.reset_index()\n",
    "del indexed_perfect_vacation[\"index\"]\n",
    "indexed_perfect_vacation\n",
    "\n",
    "vaca_locations = indexed_perfect_vacation[[\"Lat\", \"Lng\"]]\n",
    "\n",
    "vaca_humidity = indexed_perfect_vacation[\"Humidity\"].astype(float)\n",
    "\n",
    "# Plot Heatmap\n",
    "vaca_fig = gmaps.figure()\n",
    "\n",
    "# Create heat layer\n",
    "vaca_heat_layer = gmaps.heatmap_layer(vaca_locations, weights=vaca_humidity, \n",
    "                                 dissipating=False, max_intensity=50,\n",
    "                                 point_radius=2.5)\n",
    "\n",
    "# Add layer\n",
    "vaca_fig.add_layer(vaca_heat_layer)\n",
    "\n",
    "# Display figure\n",
    "vaca_fig"
   ]
  },
  {
   "cell_type": "markdown",
   "metadata": {},
   "source": [
    "### Hotel Map\n",
    "* Store into variable named `hotel_df`.\n",
    "* Add a \"Hotel Name\" column to the DataFrame.\n",
    "* Set parameters to search for hotels with 5000 meters.\n",
    "* Hit the Google Places API for each city's coordinates.\n",
    "* Store the first Hotel result into the DataFrame.\n",
    "* Plot markers on top of the heatmap."
   ]
  },
  {
   "cell_type": "code",
   "execution_count": 35,
   "metadata": {},
   "outputs": [
    {
     "data": {
      "text/html": [
       "<div>\n",
       "<style scoped>\n",
       "    .dataframe tbody tr th:only-of-type {\n",
       "        vertical-align: middle;\n",
       "    }\n",
       "\n",
       "    .dataframe tbody tr th {\n",
       "        vertical-align: top;\n",
       "    }\n",
       "\n",
       "    .dataframe thead th {\n",
       "        text-align: right;\n",
       "    }\n",
       "</style>\n",
       "<table border=\"1\" class=\"dataframe\">\n",
       "  <thead>\n",
       "    <tr style=\"text-align: right;\">\n",
       "      <th></th>\n",
       "      <th>City</th>\n",
       "      <th>Cloudiness</th>\n",
       "      <th>Date</th>\n",
       "      <th>Humidity</th>\n",
       "      <th>Lat</th>\n",
       "      <th>Lng</th>\n",
       "      <th>Max Temp</th>\n",
       "      <th>Wind Speed</th>\n",
       "      <th>Nearest Hotel</th>\n",
       "    </tr>\n",
       "  </thead>\n",
       "  <tbody>\n",
       "    <tr>\n",
       "      <th>0</th>\n",
       "      <td>korla</td>\n",
       "      <td>0</td>\n",
       "      <td>1619791891</td>\n",
       "      <td>13</td>\n",
       "      <td>41.7597</td>\n",
       "      <td>86.1469</td>\n",
       "      <td>79.56</td>\n",
       "      <td>5.64</td>\n",
       "      <td>Gulisitan Hotel</td>\n",
       "    </tr>\n",
       "    <tr>\n",
       "      <th>1</th>\n",
       "      <td>aksu</td>\n",
       "      <td>0</td>\n",
       "      <td>1619791919</td>\n",
       "      <td>7</td>\n",
       "      <td>41.1231</td>\n",
       "      <td>80.2644</td>\n",
       "      <td>79.48</td>\n",
       "      <td>8.63</td>\n",
       "      <td>Pudong Holiday Hotel</td>\n",
       "    </tr>\n",
       "    <tr>\n",
       "      <th>2</th>\n",
       "      <td>aranos</td>\n",
       "      <td>0</td>\n",
       "      <td>1619791960</td>\n",
       "      <td>23</td>\n",
       "      <td>-24.1333</td>\n",
       "      <td>19.1167</td>\n",
       "      <td>71.69</td>\n",
       "      <td>8.01</td>\n",
       "      <td>Ley-Lia Guest House</td>\n",
       "    </tr>\n",
       "    <tr>\n",
       "      <th>3</th>\n",
       "      <td>villarrica</td>\n",
       "      <td>0</td>\n",
       "      <td>1619791987</td>\n",
       "      <td>42</td>\n",
       "      <td>-25.7500</td>\n",
       "      <td>-56.4333</td>\n",
       "      <td>74.75</td>\n",
       "      <td>8.66</td>\n",
       "      <td>Mansión Reljuv Tours SA</td>\n",
       "    </tr>\n",
       "  </tbody>\n",
       "</table>\n",
       "</div>"
      ],
      "text/plain": [
       "         City  Cloudiness        Date  Humidity      Lat      Lng  Max Temp  \\\n",
       "0       korla           0  1619791891        13  41.7597  86.1469     79.56   \n",
       "1        aksu           0  1619791919         7  41.1231  80.2644     79.48   \n",
       "2      aranos           0  1619791960        23 -24.1333  19.1167     71.69   \n",
       "3  villarrica           0  1619791987        42 -25.7500 -56.4333     74.75   \n",
       "\n",
       "   Wind Speed            Nearest Hotel  \n",
       "0        5.64          Gulisitan Hotel  \n",
       "1        8.63     Pudong Holiday Hotel  \n",
       "2        8.01      Ley-Lia Guest House  \n",
       "3        8.66  Mansión Reljuv Tours SA  "
      ]
     },
     "execution_count": 35,
     "metadata": {},
     "output_type": "execute_result"
    }
   ],
   "source": [
    "hotels = []\n",
    "\n",
    "# Loop through narrowed down dataframe to get nearest hotel\n",
    "for city in range(len(indexed_perfect_vacation[\"City\"])):\n",
    "\n",
    "    lat = indexed_perfect_vacation.loc[city][\"Lat\"]\n",
    "    lng = indexed_perfect_vacation.loc[city][\"Lng\"]\n",
    "\n",
    "    city_coords = f\"{lat},{lng}\"\n",
    "\n",
    "    params = {\n",
    "        \"location\": city_coords, \n",
    "        \"types\": \"lodging\",\n",
    "        \"radius\": 5000,\n",
    "        \"key\": g_key\n",
    "    }\n",
    "\n",
    "    base_url = \"https://maps.googleapis.com/maps/api/place/nearbysearch/json\"   \n",
    "\n",
    "    hotel_request = requests.get(base_url, params=params)\n",
    "    hotel_response = hotel_request.json()\n",
    "\n",
    "    try:\n",
    "        hotels.append(hotel_response[\"results\"][0][\"name\"])\n",
    "    except:\n",
    "        hotels.append(\"Nearest hotel not found\")\n",
    "\n",
    "# Dataframe with nearest hotel\n",
    "indexed_perfect_vacation[\"Nearest Hotel\"] = hotels\n",
    "indexed_perfect_vacation"
   ]
  },
  {
   "cell_type": "code",
   "execution_count": null,
   "metadata": {},
   "outputs": [],
   "source": []
  },
  {
   "cell_type": "code",
   "execution_count": 39,
   "metadata": {},
   "outputs": [],
   "source": [
    "# Using the template add the hotel marks to the heatmap\n",
    "info_box_template = \"\"\"\n",
    "<dl>\n",
    "<dt>Name</dt><dd>{Nearest Hotel}</dd>\n",
    "<dt>City</dt><dd>{City}</dd>\n",
    "</dl>\n",
    "\"\"\"\n",
    "# Store the DataFrame Row\n",
    "# NOTE: be sure to update with your DataFrame name\n",
    "hotel_info = [info_box_template.format(**row) for index, row in indexed_perfect_vacation.iterrows()]\n",
    "locations = indexed_perfect_vacation[[\"Lat\", \"Lng\"]]"
   ]
  },
  {
   "cell_type": "code",
   "execution_count": 41,
   "metadata": {},
   "outputs": [
    {
     "data": {
      "application/vnd.jupyter.widget-view+json": {
       "model_id": "7b1cdf5aa2c04eccbd74328d215adc57",
       "version_major": 2,
       "version_minor": 0
      },
      "text/plain": [
       "Figure(layout=FigureLayout(height='420px'))"
      ]
     },
     "metadata": {},
     "output_type": "display_data"
    }
   ],
   "source": [
    "# Add marker layer ontop of heat map\n",
    "markers = gmaps.marker_layer(locations, info_box_content= [f\"Nearest Hotel: {hotel}\" for hotel in hotels])\n",
    "vaca_fig.add_layer(markers)\n",
    "\n",
    "# Display figure\n",
    "vaca_fig"
   ]
  },
  {
   "cell_type": "code",
   "execution_count": null,
   "metadata": {},
   "outputs": [],
   "source": []
  }
 ],
 "metadata": {
  "kernelspec": {
   "display_name": "Python 3",
   "language": "python",
   "name": "python3"
  },
  "language_info": {
   "codemirror_mode": {
    "name": "ipython",
    "version": 3
   },
   "file_extension": ".py",
   "mimetype": "text/x-python",
   "name": "python",
   "nbconvert_exporter": "python",
   "pygments_lexer": "ipython3",
   "version": "3.8.5"
  },
  "latex_envs": {
   "LaTeX_envs_menu_present": true,
   "autoclose": false,
   "autocomplete": true,
   "bibliofile": "biblio.bib",
   "cite_by": "apalike",
   "current_citInitial": 1,
   "eqLabelWithNumbers": true,
   "eqNumInitial": 1,
   "hotkeys": {
    "equation": "Ctrl-E",
    "itemize": "Ctrl-I"
   },
   "labels_anchors": false,
   "latex_user_defs": false,
   "report_style_numbering": false,
   "user_envs_cfg": false
  }
 },
 "nbformat": 4,
 "nbformat_minor": 4
}
